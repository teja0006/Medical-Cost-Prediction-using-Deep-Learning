{
 "cells": [
  {
   "cell_type": "code",
   "execution_count": 2,
   "id": "ed5d6d77",
   "metadata": {
    "_cell_guid": "b1076dfc-b9ad-4769-8c92-a6c4dae69d19",
    "_uuid": "8f2839f25d086af736a60e9eeb907d3b93b6e0e5",
    "execution": {
     "iopub.execute_input": "2024-08-06T16:31:08.874920Z",
     "iopub.status.busy": "2024-08-06T16:31:08.874438Z",
     "iopub.status.idle": "2024-08-06T16:31:25.126094Z",
     "shell.execute_reply": "2024-08-06T16:31:25.125030Z"
    },
    "papermill": {
     "duration": 16.267806,
     "end_time": "2024-08-06T16:31:25.128836",
     "exception": false,
     "start_time": "2024-08-06T16:31:08.861030",
     "status": "completed"
    },
    "tags": []
   },
   "outputs": [],
   "source": [
    "import pandas as pd\n",
    "import numpy as np\n",
    "import matplotlib.pyplot as plt\n",
    "import seaborn as sns\n",
    "\n",
    "from sklearn.preprocessing import LabelEncoder,StandardScaler\n",
    "from sklearn.model_selection import train_test_split\n",
    "from sklearn.metrics import r2_score\n",
    "\n",
    "import tensorflow as tf\n",
    "from tensorflow.keras.models import Sequential\n",
    "from tensorflow.keras.layers import Dense\n",
    "from tensorflow.keras.callbacks import EarlyStopping"
   ]
  },
  {
   "cell_type": "code",
   "execution_count": 3,
   "id": "2f04aa5b",
   "metadata": {
    "execution": {
     "iopub.execute_input": "2024-08-06T16:31:25.154469Z",
     "iopub.status.busy": "2024-08-06T16:31:25.153252Z",
     "iopub.status.idle": "2024-08-06T16:31:25.175968Z",
     "shell.execute_reply": "2024-08-06T16:31:25.174821Z"
    },
    "papermill": {
     "duration": 0.038319,
     "end_time": "2024-08-06T16:31:25.178874",
     "exception": false,
     "start_time": "2024-08-06T16:31:25.140555",
     "status": "completed"
    },
    "tags": []
   },
   "outputs": [],
   "source": [
    "data = pd.read_csv('./insurance.csv')"
   ]
  },
  {
   "cell_type": "code",
   "execution_count": 4,
   "id": "558b0b8a",
   "metadata": {
    "execution": {
     "iopub.execute_input": "2024-08-06T16:31:25.204448Z",
     "iopub.status.busy": "2024-08-06T16:31:25.203430Z",
     "iopub.status.idle": "2024-08-06T16:31:25.228988Z",
     "shell.execute_reply": "2024-08-06T16:31:25.227882Z"
    },
    "papermill": {
     "duration": 0.040979,
     "end_time": "2024-08-06T16:31:25.231427",
     "exception": false,
     "start_time": "2024-08-06T16:31:25.190448",
     "status": "completed"
    },
    "tags": []
   },
   "outputs": [
    {
     "data": {
      "text/html": [
       "<div>\n",
       "<style scoped>\n",
       "    .dataframe tbody tr th:only-of-type {\n",
       "        vertical-align: middle;\n",
       "    }\n",
       "\n",
       "    .dataframe tbody tr th {\n",
       "        vertical-align: top;\n",
       "    }\n",
       "\n",
       "    .dataframe thead th {\n",
       "        text-align: right;\n",
       "    }\n",
       "</style>\n",
       "<table border=\"1\" class=\"dataframe\">\n",
       "  <thead>\n",
       "    <tr style=\"text-align: right;\">\n",
       "      <th></th>\n",
       "      <th>age</th>\n",
       "      <th>sex</th>\n",
       "      <th>bmi</th>\n",
       "      <th>children</th>\n",
       "      <th>smoker</th>\n",
       "      <th>region</th>\n",
       "      <th>charges</th>\n",
       "    </tr>\n",
       "  </thead>\n",
       "  <tbody>\n",
       "    <tr>\n",
       "      <th>0</th>\n",
       "      <td>19</td>\n",
       "      <td>female</td>\n",
       "      <td>27.900</td>\n",
       "      <td>0</td>\n",
       "      <td>yes</td>\n",
       "      <td>southwest</td>\n",
       "      <td>16884.92400</td>\n",
       "    </tr>\n",
       "    <tr>\n",
       "      <th>1</th>\n",
       "      <td>18</td>\n",
       "      <td>male</td>\n",
       "      <td>33.770</td>\n",
       "      <td>1</td>\n",
       "      <td>no</td>\n",
       "      <td>southeast</td>\n",
       "      <td>1725.55230</td>\n",
       "    </tr>\n",
       "    <tr>\n",
       "      <th>2</th>\n",
       "      <td>28</td>\n",
       "      <td>male</td>\n",
       "      <td>33.000</td>\n",
       "      <td>3</td>\n",
       "      <td>no</td>\n",
       "      <td>southeast</td>\n",
       "      <td>4449.46200</td>\n",
       "    </tr>\n",
       "    <tr>\n",
       "      <th>3</th>\n",
       "      <td>33</td>\n",
       "      <td>male</td>\n",
       "      <td>22.705</td>\n",
       "      <td>0</td>\n",
       "      <td>no</td>\n",
       "      <td>northwest</td>\n",
       "      <td>21984.47061</td>\n",
       "    </tr>\n",
       "    <tr>\n",
       "      <th>4</th>\n",
       "      <td>32</td>\n",
       "      <td>male</td>\n",
       "      <td>28.880</td>\n",
       "      <td>0</td>\n",
       "      <td>no</td>\n",
       "      <td>northwest</td>\n",
       "      <td>3866.85520</td>\n",
       "    </tr>\n",
       "  </tbody>\n",
       "</table>\n",
       "</div>"
      ],
      "text/plain": [
       "   age     sex     bmi  children smoker     region      charges\n",
       "0   19  female  27.900         0    yes  southwest  16884.92400\n",
       "1   18    male  33.770         1     no  southeast   1725.55230\n",
       "2   28    male  33.000         3     no  southeast   4449.46200\n",
       "3   33    male  22.705         0     no  northwest  21984.47061\n",
       "4   32    male  28.880         0     no  northwest   3866.85520"
      ]
     },
     "execution_count": 4,
     "metadata": {},
     "output_type": "execute_result"
    }
   ],
   "source": [
    "data.head()"
   ]
  },
  {
   "cell_type": "code",
   "execution_count": 5,
   "id": "51ef7b53",
   "metadata": {
    "execution": {
     "iopub.execute_input": "2024-08-06T16:31:25.256580Z",
     "iopub.status.busy": "2024-08-06T16:31:25.256168Z",
     "iopub.status.idle": "2024-08-06T16:31:25.263006Z",
     "shell.execute_reply": "2024-08-06T16:31:25.262029Z"
    },
    "papermill": {
     "duration": 0.022198,
     "end_time": "2024-08-06T16:31:25.265325",
     "exception": false,
     "start_time": "2024-08-06T16:31:25.243127",
     "status": "completed"
    },
    "tags": []
   },
   "outputs": [
    {
     "data": {
      "text/plain": [
       "(1338, 7)"
      ]
     },
     "execution_count": 5,
     "metadata": {},
     "output_type": "execute_result"
    }
   ],
   "source": [
    "data.shape"
   ]
  },
  {
   "cell_type": "code",
   "execution_count": 6,
   "id": "bb52026b",
   "metadata": {
    "execution": {
     "iopub.execute_input": "2024-08-06T16:31:25.291203Z",
     "iopub.status.busy": "2024-08-06T16:31:25.290806Z",
     "iopub.status.idle": "2024-08-06T16:31:25.314427Z",
     "shell.execute_reply": "2024-08-06T16:31:25.313247Z"
    },
    "papermill": {
     "duration": 0.039523,
     "end_time": "2024-08-06T16:31:25.317003",
     "exception": false,
     "start_time": "2024-08-06T16:31:25.277480",
     "status": "completed"
    },
    "tags": []
   },
   "outputs": [
    {
     "name": "stdout",
     "output_type": "stream",
     "text": [
      "<class 'pandas.core.frame.DataFrame'>\n",
      "RangeIndex: 1338 entries, 0 to 1337\n",
      "Data columns (total 7 columns):\n",
      " #   Column    Non-Null Count  Dtype  \n",
      "---  ------    --------------  -----  \n",
      " 0   age       1338 non-null   int64  \n",
      " 1   sex       1338 non-null   object \n",
      " 2   bmi       1338 non-null   float64\n",
      " 3   children  1338 non-null   int64  \n",
      " 4   smoker    1338 non-null   object \n",
      " 5   region    1338 non-null   object \n",
      " 6   charges   1338 non-null   float64\n",
      "dtypes: float64(2), int64(2), object(3)\n",
      "memory usage: 73.3+ KB\n"
     ]
    }
   ],
   "source": [
    "data.info()"
   ]
  },
  {
   "cell_type": "code",
   "execution_count": 7,
   "id": "ad29b6f4",
   "metadata": {
    "execution": {
     "iopub.execute_input": "2024-08-06T16:31:25.342557Z",
     "iopub.status.busy": "2024-08-06T16:31:25.342172Z",
     "iopub.status.idle": "2024-08-06T16:31:25.366316Z",
     "shell.execute_reply": "2024-08-06T16:31:25.364888Z"
    },
    "papermill": {
     "duration": 0.039762,
     "end_time": "2024-08-06T16:31:25.368856",
     "exception": false,
     "start_time": "2024-08-06T16:31:25.329094",
     "status": "completed"
    },
    "tags": []
   },
   "outputs": [
    {
     "data": {
      "text/html": [
       "<div>\n",
       "<style scoped>\n",
       "    .dataframe tbody tr th:only-of-type {\n",
       "        vertical-align: middle;\n",
       "    }\n",
       "\n",
       "    .dataframe tbody tr th {\n",
       "        vertical-align: top;\n",
       "    }\n",
       "\n",
       "    .dataframe thead th {\n",
       "        text-align: right;\n",
       "    }\n",
       "</style>\n",
       "<table border=\"1\" class=\"dataframe\">\n",
       "  <thead>\n",
       "    <tr style=\"text-align: right;\">\n",
       "      <th></th>\n",
       "      <th>age</th>\n",
       "      <th>bmi</th>\n",
       "      <th>children</th>\n",
       "      <th>charges</th>\n",
       "    </tr>\n",
       "  </thead>\n",
       "  <tbody>\n",
       "    <tr>\n",
       "      <th>count</th>\n",
       "      <td>1338.000000</td>\n",
       "      <td>1338.000000</td>\n",
       "      <td>1338.000000</td>\n",
       "      <td>1338.000000</td>\n",
       "    </tr>\n",
       "    <tr>\n",
       "      <th>mean</th>\n",
       "      <td>39.207025</td>\n",
       "      <td>30.663397</td>\n",
       "      <td>1.094918</td>\n",
       "      <td>13270.422265</td>\n",
       "    </tr>\n",
       "    <tr>\n",
       "      <th>std</th>\n",
       "      <td>14.049960</td>\n",
       "      <td>6.098187</td>\n",
       "      <td>1.205493</td>\n",
       "      <td>12110.011237</td>\n",
       "    </tr>\n",
       "    <tr>\n",
       "      <th>min</th>\n",
       "      <td>18.000000</td>\n",
       "      <td>15.960000</td>\n",
       "      <td>0.000000</td>\n",
       "      <td>1121.873900</td>\n",
       "    </tr>\n",
       "    <tr>\n",
       "      <th>25%</th>\n",
       "      <td>27.000000</td>\n",
       "      <td>26.296250</td>\n",
       "      <td>0.000000</td>\n",
       "      <td>4740.287150</td>\n",
       "    </tr>\n",
       "    <tr>\n",
       "      <th>50%</th>\n",
       "      <td>39.000000</td>\n",
       "      <td>30.400000</td>\n",
       "      <td>1.000000</td>\n",
       "      <td>9382.033000</td>\n",
       "    </tr>\n",
       "    <tr>\n",
       "      <th>75%</th>\n",
       "      <td>51.000000</td>\n",
       "      <td>34.693750</td>\n",
       "      <td>2.000000</td>\n",
       "      <td>16639.912515</td>\n",
       "    </tr>\n",
       "    <tr>\n",
       "      <th>max</th>\n",
       "      <td>64.000000</td>\n",
       "      <td>53.130000</td>\n",
       "      <td>5.000000</td>\n",
       "      <td>63770.428010</td>\n",
       "    </tr>\n",
       "  </tbody>\n",
       "</table>\n",
       "</div>"
      ],
      "text/plain": [
       "               age          bmi     children       charges\n",
       "count  1338.000000  1338.000000  1338.000000   1338.000000\n",
       "mean     39.207025    30.663397     1.094918  13270.422265\n",
       "std      14.049960     6.098187     1.205493  12110.011237\n",
       "min      18.000000    15.960000     0.000000   1121.873900\n",
       "25%      27.000000    26.296250     0.000000   4740.287150\n",
       "50%      39.000000    30.400000     1.000000   9382.033000\n",
       "75%      51.000000    34.693750     2.000000  16639.912515\n",
       "max      64.000000    53.130000     5.000000  63770.428010"
      ]
     },
     "execution_count": 7,
     "metadata": {},
     "output_type": "execute_result"
    }
   ],
   "source": [
    "data.describe()"
   ]
  },
  {
   "cell_type": "code",
   "execution_count": 8,
   "id": "eb279dc5",
   "metadata": {
    "execution": {
     "iopub.execute_input": "2024-08-06T16:31:25.395244Z",
     "iopub.status.busy": "2024-08-06T16:31:25.394280Z",
     "iopub.status.idle": "2024-08-06T16:31:25.411643Z",
     "shell.execute_reply": "2024-08-06T16:31:25.410538Z"
    },
    "papermill": {
     "duration": 0.033125,
     "end_time": "2024-08-06T16:31:25.414178",
     "exception": false,
     "start_time": "2024-08-06T16:31:25.381053",
     "status": "completed"
    },
    "tags": []
   },
   "outputs": [
    {
     "data": {
      "text/html": [
       "<div>\n",
       "<style scoped>\n",
       "    .dataframe tbody tr th:only-of-type {\n",
       "        vertical-align: middle;\n",
       "    }\n",
       "\n",
       "    .dataframe tbody tr th {\n",
       "        vertical-align: top;\n",
       "    }\n",
       "\n",
       "    .dataframe thead th {\n",
       "        text-align: right;\n",
       "    }\n",
       "</style>\n",
       "<table border=\"1\" class=\"dataframe\">\n",
       "  <thead>\n",
       "    <tr style=\"text-align: right;\">\n",
       "      <th></th>\n",
       "      <th>sex</th>\n",
       "      <th>smoker</th>\n",
       "      <th>region</th>\n",
       "    </tr>\n",
       "  </thead>\n",
       "  <tbody>\n",
       "    <tr>\n",
       "      <th>count</th>\n",
       "      <td>1338</td>\n",
       "      <td>1338</td>\n",
       "      <td>1338</td>\n",
       "    </tr>\n",
       "    <tr>\n",
       "      <th>unique</th>\n",
       "      <td>2</td>\n",
       "      <td>2</td>\n",
       "      <td>4</td>\n",
       "    </tr>\n",
       "    <tr>\n",
       "      <th>top</th>\n",
       "      <td>male</td>\n",
       "      <td>no</td>\n",
       "      <td>southeast</td>\n",
       "    </tr>\n",
       "    <tr>\n",
       "      <th>freq</th>\n",
       "      <td>676</td>\n",
       "      <td>1064</td>\n",
       "      <td>364</td>\n",
       "    </tr>\n",
       "  </tbody>\n",
       "</table>\n",
       "</div>"
      ],
      "text/plain": [
       "         sex smoker     region\n",
       "count   1338   1338       1338\n",
       "unique     2      2          4\n",
       "top     male     no  southeast\n",
       "freq     676   1064        364"
      ]
     },
     "execution_count": 8,
     "metadata": {},
     "output_type": "execute_result"
    }
   ],
   "source": [
    "data.select_dtypes('object').describe()"
   ]
  },
  {
   "cell_type": "code",
   "execution_count": 9,
   "id": "544f8fcd",
   "metadata": {
    "execution": {
     "iopub.execute_input": "2024-08-06T16:31:25.441739Z",
     "iopub.status.busy": "2024-08-06T16:31:25.441334Z",
     "iopub.status.idle": "2024-08-06T16:31:25.450322Z",
     "shell.execute_reply": "2024-08-06T16:31:25.449270Z"
    },
    "papermill": {
     "duration": 0.024756,
     "end_time": "2024-08-06T16:31:25.452538",
     "exception": false,
     "start_time": "2024-08-06T16:31:25.427782",
     "status": "completed"
    },
    "tags": []
   },
   "outputs": [
    {
     "data": {
      "text/plain": [
       "age         0\n",
       "sex         0\n",
       "bmi         0\n",
       "children    0\n",
       "smoker      0\n",
       "region      0\n",
       "charges     0\n",
       "dtype: int64"
      ]
     },
     "execution_count": 9,
     "metadata": {},
     "output_type": "execute_result"
    }
   ],
   "source": [
    "data.isnull().sum()"
   ]
  },
  {
   "cell_type": "code",
   "execution_count": 10,
   "id": "aee98451",
   "metadata": {
    "execution": {
     "iopub.execute_input": "2024-08-06T16:31:25.479665Z",
     "iopub.status.busy": "2024-08-06T16:31:25.478981Z",
     "iopub.status.idle": "2024-08-06T16:31:25.487880Z",
     "shell.execute_reply": "2024-08-06T16:31:25.486819Z"
    },
    "papermill": {
     "duration": 0.025075,
     "end_time": "2024-08-06T16:31:25.490269",
     "exception": false,
     "start_time": "2024-08-06T16:31:25.465194",
     "status": "completed"
    },
    "tags": []
   },
   "outputs": [
    {
     "data": {
      "text/plain": [
       "1"
      ]
     },
     "execution_count": 10,
     "metadata": {},
     "output_type": "execute_result"
    }
   ],
   "source": [
    "data.duplicated().sum()"
   ]
  },
  {
   "cell_type": "code",
   "execution_count": 11,
   "id": "7cac83d9",
   "metadata": {
    "execution": {
     "iopub.execute_input": "2024-08-06T16:31:25.518702Z",
     "iopub.status.busy": "2024-08-06T16:31:25.517768Z",
     "iopub.status.idle": "2024-08-06T16:31:25.534629Z",
     "shell.execute_reply": "2024-08-06T16:31:25.533603Z"
    },
    "papermill": {
     "duration": 0.033615,
     "end_time": "2024-08-06T16:31:25.537212",
     "exception": false,
     "start_time": "2024-08-06T16:31:25.503597",
     "status": "completed"
    },
    "tags": []
   },
   "outputs": [
    {
     "data": {
      "text/html": [
       "<div>\n",
       "<style scoped>\n",
       "    .dataframe tbody tr th:only-of-type {\n",
       "        vertical-align: middle;\n",
       "    }\n",
       "\n",
       "    .dataframe tbody tr th {\n",
       "        vertical-align: top;\n",
       "    }\n",
       "\n",
       "    .dataframe thead th {\n",
       "        text-align: right;\n",
       "    }\n",
       "</style>\n",
       "<table border=\"1\" class=\"dataframe\">\n",
       "  <thead>\n",
       "    <tr style=\"text-align: right;\">\n",
       "      <th></th>\n",
       "      <th>age</th>\n",
       "      <th>sex</th>\n",
       "      <th>bmi</th>\n",
       "      <th>children</th>\n",
       "      <th>smoker</th>\n",
       "      <th>region</th>\n",
       "      <th>charges</th>\n",
       "    </tr>\n",
       "  </thead>\n",
       "  <tbody>\n",
       "    <tr>\n",
       "      <th>581</th>\n",
       "      <td>19</td>\n",
       "      <td>male</td>\n",
       "      <td>30.59</td>\n",
       "      <td>0</td>\n",
       "      <td>no</td>\n",
       "      <td>northwest</td>\n",
       "      <td>1639.5631</td>\n",
       "    </tr>\n",
       "  </tbody>\n",
       "</table>\n",
       "</div>"
      ],
      "text/plain": [
       "     age   sex    bmi  children smoker     region    charges\n",
       "581   19  male  30.59         0     no  northwest  1639.5631"
      ]
     },
     "execution_count": 11,
     "metadata": {},
     "output_type": "execute_result"
    }
   ],
   "source": [
    "data[data.duplicated()]"
   ]
  },
  {
   "cell_type": "code",
   "execution_count": 12,
   "id": "184d1d2e",
   "metadata": {
    "execution": {
     "iopub.execute_input": "2024-08-06T16:31:25.565416Z",
     "iopub.status.busy": "2024-08-06T16:31:25.564561Z",
     "iopub.status.idle": "2024-08-06T16:31:25.572005Z",
     "shell.execute_reply": "2024-08-06T16:31:25.571035Z"
    },
    "papermill": {
     "duration": 0.024152,
     "end_time": "2024-08-06T16:31:25.574351",
     "exception": false,
     "start_time": "2024-08-06T16:31:25.550199",
     "status": "completed"
    },
    "tags": []
   },
   "outputs": [],
   "source": [
    "data.drop_duplicates(inplace=True)"
   ]
  },
  {
   "cell_type": "code",
   "execution_count": 13,
   "id": "81ce717b",
   "metadata": {
    "execution": {
     "iopub.execute_input": "2024-08-06T16:31:25.602192Z",
     "iopub.status.busy": "2024-08-06T16:31:25.601809Z",
     "iopub.status.idle": "2024-08-06T16:31:25.608794Z",
     "shell.execute_reply": "2024-08-06T16:31:25.607824Z"
    },
    "papermill": {
     "duration": 0.0239,
     "end_time": "2024-08-06T16:31:25.611343",
     "exception": false,
     "start_time": "2024-08-06T16:31:25.587443",
     "status": "completed"
    },
    "tags": []
   },
   "outputs": [
    {
     "data": {
      "text/plain": [
       "(1337, 7)"
      ]
     },
     "execution_count": 13,
     "metadata": {},
     "output_type": "execute_result"
    }
   ],
   "source": [
    "data.shape"
   ]
  },
  {
   "cell_type": "code",
   "execution_count": 14,
   "id": "fcfb7ed5",
   "metadata": {
    "execution": {
     "iopub.execute_input": "2024-08-06T16:31:25.640114Z",
     "iopub.status.busy": "2024-08-06T16:31:25.639360Z",
     "iopub.status.idle": "2024-08-06T16:31:26.163331Z",
     "shell.execute_reply": "2024-08-06T16:31:26.162261Z"
    },
    "papermill": {
     "duration": 0.541128,
     "end_time": "2024-08-06T16:31:26.165980",
     "exception": false,
     "start_time": "2024-08-06T16:31:25.624852",
     "status": "completed"
    },
    "tags": []
   },
   "outputs": [
    {
     "data": {
      "image/png": "[encoded data removed]",
      "text/plain": [
       "<Figure size 500x500 with 1 Axes>"
      ]
     },
     "metadata": {},
     "output_type": "display_data"
    }
   ],
   "source": [
    "sns.displot(data=data,x='age')\n",
    "plt.xlabel('Age')\n",
    "plt.title('Age distribution');"
   ]
  },
  {
   "cell_type": "code",
   "execution_count": 15,
   "id": "5970e607",
   "metadata": {
    "execution": {
     "iopub.execute_input": "2024-08-06T16:31:26.195367Z",
     "iopub.status.busy": "2024-08-06T16:31:26.194612Z",
     "iopub.status.idle": "2024-08-06T16:31:26.788730Z",
     "shell.execute_reply": "2024-08-06T16:31:26.787568Z"
    },
    "papermill": {
     "duration": 0.61158,
     "end_time": "2024-08-06T16:31:26.791215",
     "exception": false,
     "start_time": "2024-08-06T16:31:26.179635",
     "status": "completed"
    },
    "tags": []
   },
   "outputs": [
    {
     "data": {
      "image/png": "[encoded data removed]",
      "text/plain": [
       "<Figure size 500x500 with 1 Axes>"
      ]
     },
     "metadata": {},
     "output_type": "display_data"
    }
   ],
   "source": [
    "sns.displot(data=data,x='bmi',kde=True)\n",
    "plt.title('BMI distribution');"
   ]
  },
  {
   "cell_type": "code",
   "execution_count": 16,
   "id": "7d01d414",
   "metadata": {
    "execution": {
     "iopub.execute_input": "2024-08-06T16:31:26.821907Z",
     "iopub.status.busy": "2024-08-06T16:31:26.820925Z",
     "iopub.status.idle": "2024-08-06T16:31:26.993797Z",
     "shell.execute_reply": "2024-08-06T16:31:26.992637Z"
    },
    "papermill": {
     "duration": 0.191263,
     "end_time": "2024-08-06T16:31:26.996728",
     "exception": false,
     "start_time": "2024-08-06T16:31:26.805465",
     "status": "completed"
    },
    "tags": []
   },
   "outputs": [
    {
     "data": {
      "image/png": "[encoded data removed]",
      "text/plain": [
       "<Figure size 640x480 with 1 Axes>"
      ]
     },
     "metadata": {},
     "output_type": "display_data"
    }
   ],
   "source": [
    "data['sex'].value_counts().plot(kind='pie',labels=data['sex'].unique(),autopct='%1.1f%%',radius=1.5)\n",
    "plt.pie([1],colors='white',radius=1);"
   ]
  },
  {
   "cell_type": "code",
   "execution_count": 17,
   "id": "ddc4a18c",
   "metadata": {
    "execution": {
     "iopub.execute_input": "2024-08-06T16:31:27.029364Z",
     "iopub.status.busy": "2024-08-06T16:31:27.028564Z",
     "iopub.status.idle": "2024-08-06T16:31:27.161864Z",
     "shell.execute_reply": "2024-08-06T16:31:27.160733Z"
    },
    "papermill": {
     "duration": 0.1528,
     "end_time": "2024-08-06T16:31:27.164540",
     "exception": false,
     "start_time": "2024-08-06T16:31:27.011740",
     "status": "completed"
    },
    "tags": []
   },
   "outputs": [
    {
     "data": {
      "image/png": "[encoded data removed]",
      "text/plain": [
       "<Figure size 640x480 with 1 Axes>"
      ]
     },
     "metadata": {},
     "output_type": "display_data"
    }
   ],
   "source": [
    "data['smoker'].value_counts().plot(kind='pie',autopct='%1.2f%%')\n",
    "plt.title('Smokers');"
   ]
  },
  {
   "cell_type": "code",
   "execution_count": 18,
   "id": "022de997",
   "metadata": {
    "execution": {
     "iopub.execute_input": "2024-08-06T16:31:27.197319Z",
     "iopub.status.busy": "2024-08-06T16:31:27.196917Z",
     "iopub.status.idle": "2024-08-06T16:31:27.212596Z",
     "shell.execute_reply": "2024-08-06T16:31:27.211434Z"
    },
    "papermill": {
     "duration": 0.035157,
     "end_time": "2024-08-06T16:31:27.215178",
     "exception": false,
     "start_time": "2024-08-06T16:31:27.180021",
     "status": "completed"
    },
    "tags": []
   },
   "outputs": [],
   "source": [
    "x = data.loc[:,['sex','smoker']].groupby('sex').value_counts()"
   ]
  },
  {
   "cell_type": "code",
   "execution_count": 19,
   "id": "b7aceaf8",
   "metadata": {
    "execution": {
     "iopub.execute_input": "2024-08-06T16:31:27.250376Z",
     "iopub.status.busy": "2024-08-06T16:31:27.249565Z",
     "iopub.status.idle": "2024-08-06T16:31:27.260837Z",
     "shell.execute_reply": "2024-08-06T16:31:27.259820Z"
    },
    "papermill": {
     "duration": 0.030482,
     "end_time": "2024-08-06T16:31:27.263384",
     "exception": false,
     "start_time": "2024-08-06T16:31:27.232902",
     "status": "completed"
    },
    "tags": []
   },
   "outputs": [
    {
     "data": {
      "text/html": [
       "<div>\n",
       "<style scoped>\n",
       "    .dataframe tbody tr th:only-of-type {\n",
       "        vertical-align: middle;\n",
       "    }\n",
       "\n",
       "    .dataframe tbody tr th {\n",
       "        vertical-align: top;\n",
       "    }\n",
       "\n",
       "    .dataframe thead th {\n",
       "        text-align: right;\n",
       "    }\n",
       "</style>\n",
       "<table border=\"1\" class=\"dataframe\">\n",
       "  <thead>\n",
       "    <tr style=\"text-align: right;\">\n",
       "      <th></th>\n",
       "      <th></th>\n",
       "      <th>count</th>\n",
       "    </tr>\n",
       "    <tr>\n",
       "      <th>sex</th>\n",
       "      <th>smoker</th>\n",
       "      <th></th>\n",
       "    </tr>\n",
       "  </thead>\n",
       "  <tbody>\n",
       "    <tr>\n",
       "      <th rowspan=\"2\" valign=\"top\">female</th>\n",
       "      <th>no</th>\n",
       "      <td>547</td>\n",
       "    </tr>\n",
       "    <tr>\n",
       "      <th>yes</th>\n",
       "      <td>115</td>\n",
       "    </tr>\n",
       "    <tr>\n",
       "      <th rowspan=\"2\" valign=\"top\">male</th>\n",
       "      <th>no</th>\n",
       "      <td>516</td>\n",
       "    </tr>\n",
       "    <tr>\n",
       "      <th>yes</th>\n",
       "      <td>159</td>\n",
       "    </tr>\n",
       "  </tbody>\n",
       "</table>\n",
       "</div>"
      ],
      "text/plain": [
       "               count\n",
       "sex    smoker       \n",
       "female no        547\n",
       "       yes       115\n",
       "male   no        516\n",
       "       yes       159"
      ]
     },
     "execution_count": 19,
     "metadata": {},
     "output_type": "execute_result"
    }
   ],
   "source": [
    "x = pd.DataFrame(x)\n",
    "x"
   ]
  },
  {
   "cell_type": "code",
   "execution_count": 20,
   "id": "94e90e52",
   "metadata": {
    "execution": {
     "iopub.execute_input": "2024-08-06T16:31:27.296855Z",
     "iopub.status.busy": "2024-08-06T16:31:27.295873Z",
     "iopub.status.idle": "2024-08-06T16:31:27.614432Z",
     "shell.execute_reply": "2024-08-06T16:31:27.613351Z"
    },
    "papermill": {
     "duration": 0.337866,
     "end_time": "2024-08-06T16:31:27.616969",
     "exception": false,
     "start_time": "2024-08-06T16:31:27.279103",
     "status": "completed"
    },
    "tags": []
   },
   "outputs": [
    {
     "data": {
      "image/png": "[encoded data removed]",
      "text/plain": [
       "<Figure size 640x480 with 1 Axes>"
      ]
     },
     "metadata": {},
     "output_type": "display_data"
    }
   ],
   "source": [
    "x.unstack().plot(kind='bar',stacked=False)\n",
    "plt.title('Male and Female who smoke or not')\n",
    "plt.legend(['Yes','No'])\n",
    "plt.xticks(rotation=45);"
   ]
  },
  {
   "cell_type": "code",
   "execution_count": 21,
   "id": "0f7ecee7",
   "metadata": {
    "execution": {
     "iopub.execute_input": "2024-08-06T16:31:27.650781Z",
     "iopub.status.busy": "2024-08-06T16:31:27.649805Z",
     "iopub.status.idle": "2024-08-06T16:31:27.815464Z",
     "shell.execute_reply": "2024-08-06T16:31:27.813946Z"
    },
    "papermill": {
     "duration": 0.186629,
     "end_time": "2024-08-06T16:31:27.819433",
     "exception": false,
     "start_time": "2024-08-06T16:31:27.632804",
     "status": "completed"
    },
    "tags": []
   },
   "outputs": [
    {
     "data": {
      "image/png": "[encoded data removed]",
      "text/plain": [
       "<Figure size 640x480 with 1 Axes>"
      ]
     },
     "metadata": {},
     "output_type": "display_data"
    }
   ],
   "source": [
    "data.region.value_counts().plot(kind='pie',autopct='%1.2f%%')\n",
    "plt.title('Region');"
   ]
  },
  {
   "cell_type": "code",
   "execution_count": 22,
   "id": "606a5089",
   "metadata": {
    "execution": {
     "iopub.execute_input": "2024-08-06T16:31:27.878898Z",
     "iopub.status.busy": "2024-08-06T16:31:27.878479Z",
     "iopub.status.idle": "2024-08-06T16:31:27.892172Z",
     "shell.execute_reply": "2024-08-06T16:31:27.891145Z"
    },
    "papermill": {
     "duration": 0.041658,
     "end_time": "2024-08-06T16:31:27.894383",
     "exception": false,
     "start_time": "2024-08-06T16:31:27.852725",
     "status": "completed"
    },
    "tags": []
   },
   "outputs": [
    {
     "data": {
      "text/html": [
       "<div>\n",
       "<style scoped>\n",
       "    .dataframe tbody tr th:only-of-type {\n",
       "        vertical-align: middle;\n",
       "    }\n",
       "\n",
       "    .dataframe tbody tr th {\n",
       "        vertical-align: top;\n",
       "    }\n",
       "\n",
       "    .dataframe thead th {\n",
       "        text-align: right;\n",
       "    }\n",
       "</style>\n",
       "<table border=\"1\" class=\"dataframe\">\n",
       "  <thead>\n",
       "    <tr style=\"text-align: right;\">\n",
       "      <th></th>\n",
       "      <th>age</th>\n",
       "      <th>sex</th>\n",
       "      <th>bmi</th>\n",
       "      <th>children</th>\n",
       "      <th>smoker</th>\n",
       "      <th>region</th>\n",
       "      <th>charges</th>\n",
       "    </tr>\n",
       "  </thead>\n",
       "  <tbody>\n",
       "    <tr>\n",
       "      <th>0</th>\n",
       "      <td>19</td>\n",
       "      <td>female</td>\n",
       "      <td>27.9</td>\n",
       "      <td>0</td>\n",
       "      <td>yes</td>\n",
       "      <td>southwest</td>\n",
       "      <td>16884.924</td>\n",
       "    </tr>\n",
       "  </tbody>\n",
       "</table>\n",
       "</div>"
      ],
      "text/plain": [
       "   age     sex   bmi  children smoker     region    charges\n",
       "0   19  female  27.9         0    yes  southwest  16884.924"
      ]
     },
     "execution_count": 22,
     "metadata": {},
     "output_type": "execute_result"
    }
   ],
   "source": [
    "data.head(1)"
   ]
  },
  {
   "cell_type": "code",
   "execution_count": 23,
   "id": "642c896a",
   "metadata": {
    "execution": {
     "iopub.execute_input": "2024-08-06T16:31:27.928643Z",
     "iopub.status.busy": "2024-08-06T16:31:27.928249Z",
     "iopub.status.idle": "2024-08-06T16:31:27.947298Z",
     "shell.execute_reply": "2024-08-06T16:31:27.946307Z"
    },
    "papermill": {
     "duration": 0.038953,
     "end_time": "2024-08-06T16:31:27.949660",
     "exception": false,
     "start_time": "2024-08-06T16:31:27.910707",
     "status": "completed"
    },
    "tags": []
   },
   "outputs": [
    {
     "data": {
      "text/html": [
       "<div>\n",
       "<style scoped>\n",
       "    .dataframe tbody tr th:only-of-type {\n",
       "        vertical-align: middle;\n",
       "    }\n",
       "\n",
       "    .dataframe tbody tr th {\n",
       "        vertical-align: top;\n",
       "    }\n",
       "\n",
       "    .dataframe thead th {\n",
       "        text-align: right;\n",
       "    }\n",
       "</style>\n",
       "<table border=\"1\" class=\"dataframe\">\n",
       "  <thead>\n",
       "    <tr style=\"text-align: right;\">\n",
       "      <th></th>\n",
       "      <th></th>\n",
       "      <th>count</th>\n",
       "    </tr>\n",
       "    <tr>\n",
       "      <th>region</th>\n",
       "      <th>sex</th>\n",
       "      <th></th>\n",
       "    </tr>\n",
       "  </thead>\n",
       "  <tbody>\n",
       "    <tr>\n",
       "      <th rowspan=\"2\" valign=\"top\">northeast</th>\n",
       "      <th>male</th>\n",
       "      <td>163</td>\n",
       "    </tr>\n",
       "    <tr>\n",
       "      <th>female</th>\n",
       "      <td>161</td>\n",
       "    </tr>\n",
       "    <tr>\n",
       "      <th rowspan=\"2\" valign=\"top\">northwest</th>\n",
       "      <th>female</th>\n",
       "      <td>164</td>\n",
       "    </tr>\n",
       "    <tr>\n",
       "      <th>male</th>\n",
       "      <td>160</td>\n",
       "    </tr>\n",
       "    <tr>\n",
       "      <th rowspan=\"2\" valign=\"top\">southeast</th>\n",
       "      <th>male</th>\n",
       "      <td>189</td>\n",
       "    </tr>\n",
       "    <tr>\n",
       "      <th>female</th>\n",
       "      <td>175</td>\n",
       "    </tr>\n",
       "    <tr>\n",
       "      <th rowspan=\"2\" valign=\"top\">southwest</th>\n",
       "      <th>male</th>\n",
       "      <td>163</td>\n",
       "    </tr>\n",
       "    <tr>\n",
       "      <th>female</th>\n",
       "      <td>162</td>\n",
       "    </tr>\n",
       "  </tbody>\n",
       "</table>\n",
       "</div>"
      ],
      "text/plain": [
       "                  count\n",
       "region    sex          \n",
       "northeast male      163\n",
       "          female    161\n",
       "northwest female    164\n",
       "          male      160\n",
       "southeast male      189\n",
       "          female    175\n",
       "southwest male      163\n",
       "          female    162"
      ]
     },
     "execution_count": 23,
     "metadata": {},
     "output_type": "execute_result"
    }
   ],
   "source": [
    "gender_region = pd.DataFrame(data.loc[:,['sex','region']].groupby('region').value_counts())\n",
    "gender_region"
   ]
  },
  {
   "cell_type": "code",
   "execution_count": 24,
   "id": "e129ce93",
   "metadata": {
    "execution": {
     "iopub.execute_input": "2024-08-06T16:31:27.985121Z",
     "iopub.status.busy": "2024-08-06T16:31:27.984348Z",
     "iopub.status.idle": "2024-08-06T16:31:29.079645Z",
     "shell.execute_reply": "2024-08-06T16:31:29.078527Z"
    },
    "papermill": {
     "duration": 1.116138,
     "end_time": "2024-08-06T16:31:29.082349",
     "exception": false,
     "start_time": "2024-08-06T16:31:27.966211",
     "status": "completed"
    },
    "tags": []
   },
   "outputs": [
    {
     "data": {
      "image/png": "[encoded data removed]",
      "text/plain": [
       "<Figure size 1200x800 with 4 Axes>"
      ]
     },
     "metadata": {},
     "output_type": "display_data"
    }
   ],
   "source": [
    "\n",
    "regions = ['northeast','northwest','southeast','southwest']\n",
    "fig,axes = plt.subplots(2,2,figsize=(12,8))\n",
    "\n",
    "axes = axes.flatten()\n",
    "\n",
    "for i,j in enumerate(regions):\n",
    "    gender_region.unstack().loc[j].plot(kind='bar', stacked=False, color=['blue', 'green'], ax=axes[i])\n",
    "    \n",
    "    axes[i].set_xticks([0,1])\n",
    "    axes[i].set_xticklabels(['Female','Male'])\n",
    "    \n",
    "    axes[i].set_title(j.title())\n",
    "    \n",
    "    axes[i].set_xlabel('')\n",
    "    \n",
    "    axes[i].tick_params(axis='x',rotation=45)\n",
    "    \n",
    "fig.suptitle('Gender Distribution across different Regions',fontsize=16)\n",
    "plt.tight_layout(rect=[0,0,1,0.96])\n",
    "plt.show()"
   ]
  },
  {
   "cell_type": "code",
   "execution_count": 25,
   "id": "6caa653f",
   "metadata": {
    "execution": {
     "iopub.execute_input": "2024-08-06T16:31:29.119602Z",
     "iopub.status.busy": "2024-08-06T16:31:29.118664Z",
     "iopub.status.idle": "2024-08-06T16:31:30.348491Z",
     "shell.execute_reply": "2024-08-06T16:31:30.347364Z"
    },
    "papermill": {
     "duration": 1.251465,
     "end_time": "2024-08-06T16:31:30.351410",
     "exception": false,
     "start_time": "2024-08-06T16:31:29.099945",
     "status": "completed"
    },
    "tags": []
   },
   "outputs": [
    {
     "data": {
      "image/png": "[encoded data removed]",
      "text/plain": [
       "<Figure size 1200x800 with 4 Axes>"
      ]
     },
     "metadata": {},
     "output_type": "display_data"
    }
   ],
   "source": [
    "fig,axes = plt.subplots(2,2,figsize=(12,8))\n",
    "\n",
    "axes = axes.flatten()\n",
    "\n",
    "for i,j in enumerate(regions):\n",
    "    pd.DataFrame(data.loc[:,['sex','region','smoker']].groupby(['region','sex']).value_counts()).unstack().loc[j].plot(kind='bar',stacked=False,ax=axes[i])\n",
    "    \n",
    "    axes[i].set_xticks([0,1])\n",
    "    axes[i].set_xticklabels(['Female','Male'])\n",
    "    \n",
    "    axes[i].set_title(j.title())\n",
    "    axes[i].tick_params(axis='x',rotation=45)\n",
    "    \n",
    "    axes[i].set_xlabel('')\n",
    "    \n",
    "    axes[i].legend(['No','Yes'])\n",
    "    \n",
    "fig.suptitle('Smokers distribution across each region',fontsize=16)\n",
    "plt.tight_layout(rect = [0,0,1,0.96])\n",
    "plt.show()"
   ]
  },
  {
   "cell_type": "code",
   "execution_count": 26,
   "id": "65c62ec7",
   "metadata": {
    "execution": {
     "iopub.execute_input": "2024-08-06T16:31:30.390698Z",
     "iopub.status.busy": "2024-08-06T16:31:30.390007Z",
     "iopub.status.idle": "2024-08-06T16:31:30.644334Z",
     "shell.execute_reply": "2024-08-06T16:31:30.643218Z"
    },
    "papermill": {
     "duration": 0.2766,
     "end_time": "2024-08-06T16:31:30.646762",
     "exception": false,
     "start_time": "2024-08-06T16:31:30.370162",
     "status": "completed"
    },
    "tags": []
   },
   "outputs": [
    {
     "data": {
      "image/png": "[encoded data removed]",
      "text/plain": [
       "<Figure size 640x480 with 1 Axes>"
      ]
     },
     "metadata": {},
     "output_type": "display_data"
    }
   ],
   "source": [
    "data['children'].value_counts().plot(kind='bar')\n",
    "plt.title('No.of children')\n",
    "plt.xticks(rotation=0);"
   ]
  },
  {
   "cell_type": "code",
   "execution_count": 27,
   "id": "aaf3442f",
   "metadata": {
    "execution": {
     "iopub.execute_input": "2024-08-06T16:31:30.685647Z",
     "iopub.status.busy": "2024-08-06T16:31:30.685224Z",
     "iopub.status.idle": "2024-08-06T16:31:31.037774Z",
     "shell.execute_reply": "2024-08-06T16:31:31.036552Z"
    },
    "papermill": {
     "duration": 0.375023,
     "end_time": "2024-08-06T16:31:31.040318",
     "exception": false,
     "start_time": "2024-08-06T16:31:30.665295",
     "status": "completed"
    },
    "tags": []
   },
   "outputs": [
    {
     "data": {
      "image/png": "[encoded data removed]",
      "text/plain": [
       "<Figure size 640x480 with 1 Axes>"
      ]
     },
     "metadata": {},
     "output_type": "display_data"
    }
   ],
   "source": [
    "avg_children_by_age = data.groupby('age')['children'].mean()\n",
    "\n",
    "avg_children_by_age.astype('int').plot(grid=True,color='green')\n",
    "plt.title('Average no.of children across different age distribution');"
   ]
  },
  {
   "cell_type": "code",
   "execution_count": 28,
   "id": "3071b0b3",
   "metadata": {
    "execution": {
     "iopub.execute_input": "2024-08-06T16:31:31.080971Z",
     "iopub.status.busy": "2024-08-06T16:31:31.080532Z",
     "iopub.status.idle": "2024-08-06T16:31:31.102771Z",
     "shell.execute_reply": "2024-08-06T16:31:31.101545Z"
    },
    "papermill": {
     "duration": 0.045671,
     "end_time": "2024-08-06T16:31:31.105325",
     "exception": false,
     "start_time": "2024-08-06T16:31:31.059654",
     "status": "completed"
    },
    "tags": []
   },
   "outputs": [
    {
     "data": {
      "text/html": [
       "<div>\n",
       "<style scoped>\n",
       "    .dataframe tbody tr th:only-of-type {\n",
       "        vertical-align: middle;\n",
       "    }\n",
       "\n",
       "    .dataframe tbody tr th {\n",
       "        vertical-align: top;\n",
       "    }\n",
       "\n",
       "    .dataframe thead th {\n",
       "        text-align: right;\n",
       "    }\n",
       "</style>\n",
       "<table border=\"1\" class=\"dataframe\">\n",
       "  <thead>\n",
       "    <tr style=\"text-align: right;\">\n",
       "      <th></th>\n",
       "      <th>age</th>\n",
       "      <th>sex</th>\n",
       "      <th>bmi</th>\n",
       "      <th>children</th>\n",
       "      <th>smoker</th>\n",
       "      <th>region</th>\n",
       "      <th>charges</th>\n",
       "    </tr>\n",
       "  </thead>\n",
       "  <tbody>\n",
       "    <tr>\n",
       "      <th>0</th>\n",
       "      <td>19</td>\n",
       "      <td>0</td>\n",
       "      <td>27.900</td>\n",
       "      <td>0</td>\n",
       "      <td>1</td>\n",
       "      <td>3</td>\n",
       "      <td>16884.92400</td>\n",
       "    </tr>\n",
       "    <tr>\n",
       "      <th>1</th>\n",
       "      <td>18</td>\n",
       "      <td>1</td>\n",
       "      <td>33.770</td>\n",
       "      <td>1</td>\n",
       "      <td>0</td>\n",
       "      <td>2</td>\n",
       "      <td>1725.55230</td>\n",
       "    </tr>\n",
       "    <tr>\n",
       "      <th>2</th>\n",
       "      <td>28</td>\n",
       "      <td>1</td>\n",
       "      <td>33.000</td>\n",
       "      <td>3</td>\n",
       "      <td>0</td>\n",
       "      <td>2</td>\n",
       "      <td>4449.46200</td>\n",
       "    </tr>\n",
       "    <tr>\n",
       "      <th>3</th>\n",
       "      <td>33</td>\n",
       "      <td>1</td>\n",
       "      <td>22.705</td>\n",
       "      <td>0</td>\n",
       "      <td>0</td>\n",
       "      <td>1</td>\n",
       "      <td>21984.47061</td>\n",
       "    </tr>\n",
       "    <tr>\n",
       "      <th>4</th>\n",
       "      <td>32</td>\n",
       "      <td>1</td>\n",
       "      <td>28.880</td>\n",
       "      <td>0</td>\n",
       "      <td>0</td>\n",
       "      <td>1</td>\n",
       "      <td>3866.85520</td>\n",
       "    </tr>\n",
       "    <tr>\n",
       "      <th>...</th>\n",
       "      <td>...</td>\n",
       "      <td>...</td>\n",
       "      <td>...</td>\n",
       "      <td>...</td>\n",
       "      <td>...</td>\n",
       "      <td>...</td>\n",
       "      <td>...</td>\n",
       "    </tr>\n",
       "    <tr>\n",
       "      <th>1333</th>\n",
       "      <td>50</td>\n",
       "      <td>1</td>\n",
       "      <td>30.970</td>\n",
       "      <td>3</td>\n",
       "      <td>0</td>\n",
       "      <td>1</td>\n",
       "      <td>10600.54830</td>\n",
       "    </tr>\n",
       "    <tr>\n",
       "      <th>1334</th>\n",
       "      <td>18</td>\n",
       "      <td>0</td>\n",
       "      <td>31.920</td>\n",
       "      <td>0</td>\n",
       "      <td>0</td>\n",
       "      <td>0</td>\n",
       "      <td>2205.98080</td>\n",
       "    </tr>\n",
       "    <tr>\n",
       "      <th>1335</th>\n",
       "      <td>18</td>\n",
       "      <td>0</td>\n",
       "      <td>36.850</td>\n",
       "      <td>0</td>\n",
       "      <td>0</td>\n",
       "      <td>2</td>\n",
       "      <td>1629.83350</td>\n",
       "    </tr>\n",
       "    <tr>\n",
       "      <th>1336</th>\n",
       "      <td>21</td>\n",
       "      <td>0</td>\n",
       "      <td>25.800</td>\n",
       "      <td>0</td>\n",
       "      <td>0</td>\n",
       "      <td>3</td>\n",
       "      <td>2007.94500</td>\n",
       "    </tr>\n",
       "    <tr>\n",
       "      <th>1337</th>\n",
       "      <td>61</td>\n",
       "      <td>0</td>\n",
       "      <td>29.070</td>\n",
       "      <td>0</td>\n",
       "      <td>1</td>\n",
       "      <td>1</td>\n",
       "      <td>29141.36030</td>\n",
       "    </tr>\n",
       "  </tbody>\n",
       "</table>\n",
       "<p>1337 rows × 7 columns</p>\n",
       "</div>"
      ],
      "text/plain": [
       "      age  sex     bmi  children  smoker  region      charges\n",
       "0      19    0  27.900         0       1       3  16884.92400\n",
       "1      18    1  33.770         1       0       2   1725.55230\n",
       "2      28    1  33.000         3       0       2   4449.46200\n",
       "3      33    1  22.705         0       0       1  21984.47061\n",
       "4      32    1  28.880         0       0       1   3866.85520\n",
       "...   ...  ...     ...       ...     ...     ...          ...\n",
       "1333   50    1  30.970         3       0       1  10600.54830\n",
       "1334   18    0  31.920         0       0       0   2205.98080\n",
       "1335   18    0  36.850         0       0       2   1629.83350\n",
       "1336   21    0  25.800         0       0       3   2007.94500\n",
       "1337   61    0  29.070         0       1       1  29141.36030\n",
       "\n",
       "[1337 rows x 7 columns]"
      ]
     },
     "execution_count": 28,
     "metadata": {},
     "output_type": "execute_result"
    }
   ],
   "source": [
    "gender_encoder = LabelEncoder()\n",
    "smoker_encoder = LabelEncoder()\n",
    "region_encoder = LabelEncoder()\n",
    "\n",
    "data['sex'] = gender_encoder.fit_transform(data['sex'])\n",
    "data['smoker'] = smoker_encoder.fit_transform(data['smoker'])\n",
    "data['region'] = region_encoder.fit_transform(data['region'])\n",
    "\n",
    "data"
   ]
  },
  {
   "cell_type": "code",
   "execution_count": 29,
   "id": "495af2f7",
   "metadata": {
    "execution": {
     "iopub.execute_input": "2024-08-06T16:31:31.146872Z",
     "iopub.status.busy": "2024-08-06T16:31:31.146439Z",
     "iopub.status.idle": "2024-08-06T16:31:31.163412Z",
     "shell.execute_reply": "2024-08-06T16:31:31.162469Z"
    },
    "papermill": {
     "duration": 0.040797,
     "end_time": "2024-08-06T16:31:31.165933",
     "exception": false,
     "start_time": "2024-08-06T16:31:31.125136",
     "status": "completed"
    },
    "tags": []
   },
   "outputs": [],
   "source": [
    "X = data.drop('charges',axis=1)\n",
    "y = data.charges\n",
    "\n",
    "X_train,X_test,y_train,y_test = train_test_split(X,y,train_size=0.8,test_size=0.2,random_state=24,shuffle=True)\n",
    "\n",
    "scaler = StandardScaler()\n",
    "X_train = scaler.fit_transform(X_train)\n",
    "X_test = scaler.transform(X_test)"
   ]
  },
  {
   "cell_type": "code",
   "execution_count": 30,
   "id": "4d757d90",
   "metadata": {
    "execution": {
     "iopub.execute_input": "2024-08-06T16:31:31.207765Z",
     "iopub.status.busy": "2024-08-06T16:31:31.207346Z",
     "iopub.status.idle": "2024-08-06T16:31:31.215314Z",
     "shell.execute_reply": "2024-08-06T16:31:31.214069Z"
    },
    "papermill": {
     "duration": 0.031555,
     "end_time": "2024-08-06T16:31:31.217710",
     "exception": false,
     "start_time": "2024-08-06T16:31:31.186155",
     "status": "completed"
    },
    "tags": []
   },
   "outputs": [
    {
     "data": {
      "text/plain": [
       "array([[ 0.97669473, -1.00093589,  0.88136727,  0.74969562, -0.49443939,\n",
       "         1.36565992],\n",
       "       [-1.51600877, -1.00093589, -0.54371581,  1.58277734,  2.02249257,\n",
       "         0.4543675 ],\n",
       "       [ 1.54645553,  0.99906498,  0.87475436, -0.91646783,  2.02249257,\n",
       "         0.4543675 ],\n",
       "       ...,\n",
       "       [-1.01746807,  0.99906498, -0.79831303, -0.91646783, -0.49443939,\n",
       "         0.4543675 ],\n",
       "       [ 0.69181433,  0.99906498, -1.33147926, -0.91646783, -0.49443939,\n",
       "        -1.36821734],\n",
       "       [ 1.76011583,  0.99906498,  1.42031981, -0.0833861 , -0.49443939,\n",
       "         0.4543675 ]])"
      ]
     },
     "execution_count": 30,
     "metadata": {},
     "output_type": "execute_result"
    }
   ],
   "source": [
    "X_train"
   ]
  },
  {
   "cell_type": "code",
   "execution_count": 31,
   "id": "3415060e",
   "metadata": {
    "execution": {
     "iopub.execute_input": "2024-08-06T16:31:31.261405Z",
     "iopub.status.busy": "2024-08-06T16:31:31.260619Z",
     "iopub.status.idle": "2024-08-06T16:31:31.269286Z",
     "shell.execute_reply": "2024-08-06T16:31:31.268264Z"
    },
    "papermill": {
     "duration": 0.032492,
     "end_time": "2024-08-06T16:31:31.271646",
     "exception": false,
     "start_time": "2024-08-06T16:31:31.239154",
     "status": "completed"
    },
    "tags": []
   },
   "outputs": [
    {
     "data": {
      "text/plain": [
       "132     11163.56800\n",
       "1204    18223.45120\n",
       "421     46599.10840\n",
       "613      6753.03800\n",
       "1106     8988.15875\n",
       "           ...     \n",
       "145      5138.25670\n",
       "343     13981.85035\n",
       "192      2137.65360\n",
       "900      8688.85885\n",
       "418     14418.28040\n",
       "Name: charges, Length: 1069, dtype: float64"
      ]
     },
     "execution_count": 31,
     "metadata": {},
     "output_type": "execute_result"
    }
   ],
   "source": [
    "y_train"
   ]
  },
  {
   "cell_type": "code",
   "execution_count": 32,
   "id": "1a20a84b",
   "metadata": {
    "execution": {
     "iopub.execute_input": "2024-08-06T16:31:31.313909Z",
     "iopub.status.busy": "2024-08-06T16:31:31.312891Z",
     "iopub.status.idle": "2024-08-06T16:31:31.418868Z",
     "shell.execute_reply": "2024-08-06T16:31:31.417820Z"
    },
    "papermill": {
     "duration": 0.129533,
     "end_time": "2024-08-06T16:31:31.421203",
     "exception": false,
     "start_time": "2024-08-06T16:31:31.291670",
     "status": "completed"
    },
    "tags": []
   },
   "outputs": [
    {
     "name": "stderr",
     "output_type": "stream",
     "text": [
      "C:\\Users\\datta\\AppData\\Roaming\\Python\\Python312\\site-packages\\keras\\src\\layers\\core\\dense.py:87: UserWarning: Do not pass an `input_shape`/`input_dim` argument to a layer. When using Sequential models, prefer using an `Input(shape)` object as the first layer in the model instead.\n",
      "  super().__init__(activity_regularizer=activity_regularizer, **kwargs)\n"
     ]
    },
    {
     "data": {
      "text/html": [
       "<pre style=\"white-space:pre;overflow-x:auto;line-height:normal;font-family:Menlo,'DejaVu Sans Mono',consolas,'Courier New',monospace\"><span style=\"font-weight: bold\">Model: \"sequential\"</span>\n",
       "</pre>\n"
      ],
      "text/plain": [
       "\u001b[1mModel: \"sequential\"\u001b[0m\n"
      ]
     },
     "metadata": {},
     "output_type": "display_data"
    },
    {
     "data": {
      "text/html": [
       "<pre style=\"white-space:pre;overflow-x:auto;line-height:normal;font-family:Menlo,'DejaVu Sans Mono',consolas,'Courier New',monospace\">┏━━━━━━━━━━━━━━━━━━━━━━━━━━━━━━━━━┳━━━━━━━━━━━━━━━━━━━━━━━━┳━━━━━━━━━━━━━━━┓\n",
       "┃<span style=\"font-weight: bold\"> Layer (type)                    </span>┃<span style=\"font-weight: bold\"> Output Shape           </span>┃<span style=\"font-weight: bold\">       Param # </span>┃\n",
       "┡━━━━━━━━━━━━━━━━━━━━━━━━━━━━━━━━━╇━━━━━━━━━━━━━━━━━━━━━━━━╇━━━━━━━━━━━━━━━┩\n",
       "│ dense (<span style=\"color: #0087ff; text-decoration-color: #0087ff\">Dense</span>)                   │ (<span style=\"color: #00d7ff; text-decoration-color: #00d7ff\">None</span>, <span style=\"color: #00af00; text-decoration-color: #00af00\">64</span>)             │           <span style=\"color: #00af00; text-decoration-color: #00af00\">448</span> │\n",
       "├─────────────────────────────────┼────────────────────────┼───────────────┤\n",
       "│ dense_1 (<span style=\"color: #0087ff; text-decoration-color: #0087ff\">Dense</span>)                 │ (<span style=\"color: #00d7ff; text-decoration-color: #00d7ff\">None</span>, <span style=\"color: #00af00; text-decoration-color: #00af00\">32</span>)             │         <span style=\"color: #00af00; text-decoration-color: #00af00\">2,080</span> │\n",
       "├─────────────────────────────────┼────────────────────────┼───────────────┤\n",
       "│ dense_2 (<span style=\"color: #0087ff; text-decoration-color: #0087ff\">Dense</span>)                 │ (<span style=\"color: #00d7ff; text-decoration-color: #00d7ff\">None</span>, <span style=\"color: #00af00; text-decoration-color: #00af00\">1</span>)              │            <span style=\"color: #00af00; text-decoration-color: #00af00\">33</span> │\n",
       "└─────────────────────────────────┴────────────────────────┴───────────────┘\n",
       "</pre>\n"
      ],
      "text/plain": [
       "┏━━━━━━━━━━━━━━━━━━━━━━━━━━━━━━━━━┳━━━━━━━━━━━━━━━━━━━━━━━━┳━━━━━━━━━━━━━━━┓\n",
       "┃\u001b[1m \u001b[0m\u001b[1mLayer (type)                   \u001b[0m\u001b[1m \u001b[0m┃\u001b[1m \u001b[0m\u001b[1mOutput Shape          \u001b[0m\u001b[1m \u001b[0m┃\u001b[1m \u001b[0m\u001b[1m      Param #\u001b[0m\u001b[1m \u001b[0m┃\n",
       "┡━━━━━━━━━━━━━━━━━━━━━━━━━━━━━━━━━╇━━━━━━━━━━━━━━━━━━━━━━━━╇━━━━━━━━━━━━━━━┩\n",
       "│ dense (\u001b[38;5;33mDense\u001b[0m)                   │ (\u001b[38;5;45mNone\u001b[0m, \u001b[38;5;34m64\u001b[0m)             │           \u001b[38;5;34m448\u001b[0m │\n",
       "├─────────────────────────────────┼────────────────────────┼───────────────┤\n",
       "│ dense_1 (\u001b[38;5;33mDense\u001b[0m)                 │ (\u001b[38;5;45mNone\u001b[0m, \u001b[38;5;34m32\u001b[0m)             │         \u001b[38;5;34m2,080\u001b[0m │\n",
       "├─────────────────────────────────┼────────────────────────┼───────────────┤\n",
       "│ dense_2 (\u001b[38;5;33mDense\u001b[0m)                 │ (\u001b[38;5;45mNone\u001b[0m, \u001b[38;5;34m1\u001b[0m)              │            \u001b[38;5;34m33\u001b[0m │\n",
       "└─────────────────────────────────┴────────────────────────┴───────────────┘\n"
      ]
     },
     "metadata": {},
     "output_type": "display_data"
    },
    {
     "data": {
      "text/html": [
       "<pre style=\"white-space:pre;overflow-x:auto;line-height:normal;font-family:Menlo,'DejaVu Sans Mono',consolas,'Courier New',monospace\"><span style=\"font-weight: bold\"> Total params: </span><span style=\"color: #00af00; text-decoration-color: #00af00\">2,561</span> (10.00 KB)\n",
       "</pre>\n"
      ],
      "text/plain": [
       "\u001b[1m Total params: \u001b[0m\u001b[38;5;34m2,561\u001b[0m (10.00 KB)\n"
      ]
     },
     "metadata": {},
     "output_type": "display_data"
    },
    {
     "data": {
      "text/html": [
       "<pre style=\"white-space:pre;overflow-x:auto;line-height:normal;font-family:Menlo,'DejaVu Sans Mono',consolas,'Courier New',monospace\"><span style=\"font-weight: bold\"> Trainable params: </span><span style=\"color: #00af00; text-decoration-color: #00af00\">2,561</span> (10.00 KB)\n",
       "</pre>\n"
      ],
      "text/plain": [
       "\u001b[1m Trainable params: \u001b[0m\u001b[38;5;34m2,561\u001b[0m (10.00 KB)\n"
      ]
     },
     "metadata": {},
     "output_type": "display_data"
    },
    {
     "data": {
      "text/html": [
       "<pre style=\"white-space:pre;overflow-x:auto;line-height:normal;font-family:Menlo,'DejaVu Sans Mono',consolas,'Courier New',monospace\"><span style=\"font-weight: bold\"> Non-trainable params: </span><span style=\"color: #00af00; text-decoration-color: #00af00\">0</span> (0.00 B)\n",
       "</pre>\n"
      ],
      "text/plain": [
       "\u001b[1m Non-trainable params: \u001b[0m\u001b[38;5;34m0\u001b[0m (0.00 B)\n"
      ]
     },
     "metadata": {},
     "output_type": "display_data"
    }
   ],
   "source": [
    "model = Sequential([\n",
    "    Dense(64,activation='relu',input_shape=(X_train.shape[1],)),\n",
    "    Dense(32,activation='relu'),\n",
    "    Dense(1)\n",
    "])\n",
    "\n",
    "model.compile(optimizer='adam',loss='mean_absolute_error',metrics=['mae'])\n",
    "\n",
    "model.summary()"
   ]
  },
  {
   "cell_type": "code",
   "execution_count": 33,
   "id": "4eed1a1c",
   "metadata": {
    "execution": {
     "iopub.execute_input": "2024-08-06T16:31:31.465896Z",
     "iopub.status.busy": "2024-08-06T16:31:31.464882Z",
     "iopub.status.idle": "2024-08-06T16:31:31.470237Z",
     "shell.execute_reply": "2024-08-06T16:31:31.469121Z"
    },
    "papermill": {
     "duration": 0.029969,
     "end_time": "2024-08-06T16:31:31.472455",
     "exception": false,
     "start_time": "2024-08-06T16:31:31.442486",
     "status": "completed"
    },
    "tags": []
   },
   "outputs": [],
   "source": [
    "early_stopping = EarlyStopping(monitor='val_loss',patience=10,restore_best_weights=True)"
   ]
  },
  {
   "cell_type": "code",
   "execution_count": 34,
   "id": "7e897ccf",
   "metadata": {
    "execution": {
     "iopub.execute_input": "2024-08-06T16:31:31.517161Z",
     "iopub.status.busy": "2024-08-06T16:31:31.516429Z",
     "iopub.status.idle": "2024-08-06T16:31:44.318934Z",
     "shell.execute_reply": "2024-08-06T16:31:44.317267Z"
    },
    "papermill": {
     "duration": 12.828418,
     "end_time": "2024-08-06T16:31:44.322042",
     "exception": false,
     "start_time": "2024-08-06T16:31:31.493624",
     "status": "completed"
    },
    "tags": []
   },
   "outputs": [
    {
     "name": "stdout",
     "output_type": "stream",
     "text": [
      "Epoch 1/100\n",
      "\u001b[1m34/34\u001b[0m \u001b[32m━━━━━━━━━━━━━━━━━━━━\u001b[0m\u001b[37m\u001b[0m \u001b[1m2s\u001b[0m 11ms/step - loss: 13102.3682 - mae: 13102.3682 - val_loss: 14166.9424 - val_mae: 14166.9424\n",
      "Epoch 2/100\n",
      "\u001b[1m34/34\u001b[0m \u001b[32m━━━━━━━━━━━━━━━━━━━━\u001b[0m\u001b[37m\u001b[0m \u001b[1m0s\u001b[0m 4ms/step - loss: 13199.0703 - mae: 13199.0703 - val_loss: 14162.4629 - val_mae: 14162.4629\n",
      "Epoch 3/100\n",
      "\u001b[1m34/34\u001b[0m \u001b[32m━━━━━━━━━━━━━━━━━━━━\u001b[0m\u001b[37m\u001b[0m \u001b[1m0s\u001b[0m 5ms/step - loss: 13027.7344 - mae: 13027.7344 - val_loss: 14153.2109 - val_mae: 14153.2109\n",
      "Epoch 4/100\n",
      "\u001b[1m34/34\u001b[0m \u001b[32m━━━━━━━━━━━━━━━━━━━━\u001b[0m\u001b[37m\u001b[0m \u001b[1m0s\u001b[0m 4ms/step - loss: 12321.3076 - mae: 12321.3076 - val_loss: 14136.2207 - val_mae: 14136.2207\n",
      "Epoch 5/100\n",
      "\u001b[1m34/34\u001b[0m \u001b[32m━━━━━━━━━━━━━━━━━━━━\u001b[0m\u001b[37m\u001b[0m \u001b[1m0s\u001b[0m 4ms/step - loss: 13250.0195 - mae: 13250.0195 - val_loss: 14107.7334 - val_mae: 14107.7334\n",
      "Epoch 6/100\n",
      "\u001b[1m34/34\u001b[0m \u001b[32m━━━━━━━━━━━━━━━━━━━━\u001b[0m\u001b[37m\u001b[0m \u001b[1m0s\u001b[0m 4ms/step - loss: 13059.8340 - mae: 13059.8340 - val_loss: 14064.1328 - val_mae: 14064.1328\n",
      "Epoch 7/100\n",
      "\u001b[1m34/34\u001b[0m \u001b[32m━━━━━━━━━━━━━━━━━━━━\u001b[0m\u001b[37m\u001b[0m \u001b[1m0s\u001b[0m 4ms/step - loss: 12987.5098 - mae: 12987.5098 - val_loss: 14001.7617 - val_mae: 14001.7617\n",
      "Epoch 8/100\n",
      "\u001b[1m34/34\u001b[0m \u001b[32m━━━━━━━━━━━━━━━━━━━━\u001b[0m\u001b[37m\u001b[0m \u001b[1m0s\u001b[0m 4ms/step - loss: 13700.1855 - mae: 13700.1855 - val_loss: 13917.2646 - val_mae: 13917.2646\n",
      "Epoch 9/100\n",
      "\u001b[1m34/34\u001b[0m \u001b[32m━━━━━━━━━━━━━━━━━━━━\u001b[0m\u001b[37m\u001b[0m \u001b[1m0s\u001b[0m 4ms/step - loss: 12900.8799 - mae: 12900.8799 - val_loss: 13807.0977 - val_mae: 13807.0977\n",
      "Epoch 10/100\n",
      "\u001b[1m34/34\u001b[0m \u001b[32m━━━━━━━━━━━━━━━━━━━━\u001b[0m\u001b[37m\u001b[0m \u001b[1m0s\u001b[0m 4ms/step - loss: 12885.4766 - mae: 12885.4766 - val_loss: 13668.2168 - val_mae: 13668.2168\n",
      "Epoch 11/100\n",
      "\u001b[1m34/34\u001b[0m \u001b[32m━━━━━━━━━━━━━━━━━━━━\u001b[0m\u001b[37m\u001b[0m \u001b[1m0s\u001b[0m 4ms/step - loss: 12474.9482 - mae: 12474.9482 - val_loss: 13498.2305 - val_mae: 13498.2305\n",
      "Epoch 12/100\n",
      "\u001b[1m34/34\u001b[0m \u001b[32m━━━━━━━━━━━━━━━━━━━━\u001b[0m\u001b[37m\u001b[0m \u001b[1m0s\u001b[0m 5ms/step - loss: 12607.8613 - mae: 12607.8613 - val_loss: 13291.6445 - val_mae: 13291.6445\n",
      "Epoch 13/100\n",
      "\u001b[1m34/34\u001b[0m \u001b[32m━━━━━━━━━━━━━━━━━━━━\u001b[0m\u001b[37m\u001b[0m \u001b[1m0s\u001b[0m 4ms/step - loss: 12537.1348 - mae: 12537.1348 - val_loss: 13050.5771 - val_mae: 13050.5771\n",
      "Epoch 14/100\n",
      "\u001b[1m34/34\u001b[0m \u001b[32m━━━━━━━━━━━━━━━━━━━━\u001b[0m\u001b[37m\u001b[0m \u001b[1m0s\u001b[0m 4ms/step - loss: 12143.8906 - mae: 12143.8906 - val_loss: 12777.3662 - val_mae: 12777.3662\n",
      "Epoch 15/100\n",
      "\u001b[1m34/34\u001b[0m \u001b[32m━━━━━━━━━━━━━━━━━━━━\u001b[0m\u001b[37m\u001b[0m \u001b[1m0s\u001b[0m 5ms/step - loss: 11769.2100 - mae: 11769.2100 - val_loss: 12482.6846 - val_mae: 12482.6846\n",
      "Epoch 16/100\n",
      "\u001b[1m34/34\u001b[0m \u001b[32m━━━━━━━━━━━━━━━━━━━━\u001b[0m\u001b[37m\u001b[0m \u001b[1m0s\u001b[0m 4ms/step - loss: 11547.8906 - mae: 11547.8906 - val_loss: 12170.2441 - val_mae: 12170.2441\n",
      "Epoch 17/100\n",
      "\u001b[1m34/34\u001b[0m \u001b[32m━━━━━━━━━━━━━━━━━━━━\u001b[0m\u001b[37m\u001b[0m \u001b[1m0s\u001b[0m 3ms/step - loss: 10939.8223 - mae: 10939.8223 - val_loss: 11842.8320 - val_mae: 11842.8320\n",
      "Epoch 18/100\n",
      "\u001b[1m34/34\u001b[0m \u001b[32m━━━━━━━━━━━━━━━━━━━━\u001b[0m\u001b[37m\u001b[0m \u001b[1m0s\u001b[0m 4ms/step - loss: 10905.7871 - mae: 10905.7871 - val_loss: 11497.2676 - val_mae: 11497.2676\n",
      "Epoch 19/100\n",
      "\u001b[1m34/34\u001b[0m \u001b[32m━━━━━━━━━━━━━━━━━━━━\u001b[0m\u001b[37m\u001b[0m \u001b[1m0s\u001b[0m 4ms/step - loss: 10282.7109 - mae: 10282.7109 - val_loss: 11128.2627 - val_mae: 11128.2627\n",
      "Epoch 20/100\n",
      "\u001b[1m34/34\u001b[0m \u001b[32m━━━━━━━━━━━━━━━━━━━━\u001b[0m\u001b[37m\u001b[0m \u001b[1m0s\u001b[0m 5ms/step - loss: 9619.9316 - mae: 9619.9316 - val_loss: 10735.9678 - val_mae: 10735.9678\n",
      "Epoch 21/100\n",
      "\u001b[1m34/34\u001b[0m \u001b[32m━━━━━━━━━━━━━━━━━━━━\u001b[0m\u001b[37m\u001b[0m \u001b[1m0s\u001b[0m 5ms/step - loss: 9428.0508 - mae: 9428.0508 - val_loss: 10322.8809 - val_mae: 10322.8809\n",
      "Epoch 22/100\n",
      "\u001b[1m34/34\u001b[0m \u001b[32m━━━━━━━━━━━━━━━━━━━━\u001b[0m\u001b[37m\u001b[0m \u001b[1m0s\u001b[0m 5ms/step - loss: 9172.2549 - mae: 9172.2549 - val_loss: 9885.1348 - val_mae: 9885.1348\n",
      "Epoch 23/100\n",
      "\u001b[1m34/34\u001b[0m \u001b[32m━━━━━━━━━━━━━━━━━━━━\u001b[0m\u001b[37m\u001b[0m \u001b[1m0s\u001b[0m 5ms/step - loss: 8643.5781 - mae: 8643.5781 - val_loss: 9446.2412 - val_mae: 9446.2412\n",
      "Epoch 24/100\n",
      "\u001b[1m34/34\u001b[0m \u001b[32m━━━━━━━━━━━━━━━━━━━━\u001b[0m\u001b[37m\u001b[0m \u001b[1m0s\u001b[0m 4ms/step - loss: 8470.3359 - mae: 8470.3359 - val_loss: 9002.2490 - val_mae: 9002.2490\n",
      "Epoch 25/100\n",
      "\u001b[1m34/34\u001b[0m \u001b[32m━━━━━━━━━━━━━━━━━━━━\u001b[0m\u001b[37m\u001b[0m \u001b[1m0s\u001b[0m 4ms/step - loss: 7379.3311 - mae: 7379.3311 - val_loss: 8563.6904 - val_mae: 8563.6904\n",
      "Epoch 26/100\n",
      "\u001b[1m34/34\u001b[0m \u001b[32m━━━━━━━━━━━━━━━━━━━━\u001b[0m\u001b[37m\u001b[0m \u001b[1m0s\u001b[0m 4ms/step - loss: 7499.8823 - mae: 7499.8823 - val_loss: 8126.5337 - val_mae: 8126.5337\n",
      "Epoch 27/100\n",
      "\u001b[1m34/34\u001b[0m \u001b[32m━━━━━━━━━━━━━━━━━━━━\u001b[0m\u001b[37m\u001b[0m \u001b[1m0s\u001b[0m 4ms/step - loss: 6870.6548 - mae: 6870.6548 - val_loss: 7694.9712 - val_mae: 7694.9712\n",
      "Epoch 28/100\n",
      "\u001b[1m34/34\u001b[0m \u001b[32m━━━━━━━━━━━━━━━━━━━━\u001b[0m\u001b[37m\u001b[0m \u001b[1m0s\u001b[0m 5ms/step - loss: 6992.4058 - mae: 6992.4058 - val_loss: 7291.8530 - val_mae: 7291.8530\n",
      "Epoch 29/100\n",
      "\u001b[1m34/34\u001b[0m \u001b[32m━━━━━━━━━━━━━━━━━━━━\u001b[0m\u001b[37m\u001b[0m \u001b[1m0s\u001b[0m 4ms/step - loss: 6006.7212 - mae: 6006.7212 - val_loss: 6913.3232 - val_mae: 6913.3232\n",
      "Epoch 30/100\n",
      "\u001b[1m34/34\u001b[0m \u001b[32m━━━━━━━━━━━━━━━━━━━━\u001b[0m\u001b[37m\u001b[0m \u001b[1m0s\u001b[0m 4ms/step - loss: 6159.1938 - mae: 6159.1938 - val_loss: 6568.4932 - val_mae: 6568.4932\n",
      "Epoch 31/100\n",
      "\u001b[1m34/34\u001b[0m \u001b[32m━━━━━━━━━━━━━━━━━━━━\u001b[0m\u001b[37m\u001b[0m \u001b[1m0s\u001b[0m 5ms/step - loss: 5869.3955 - mae: 5869.3955 - val_loss: 6241.2070 - val_mae: 6241.2070\n",
      "Epoch 32/100\n",
      "\u001b[1m34/34\u001b[0m \u001b[32m━━━━━━━━━━━━━━━━━━━━\u001b[0m\u001b[37m\u001b[0m \u001b[1m0s\u001b[0m 4ms/step - loss: 5361.5371 - mae: 5361.5371 - val_loss: 5957.4497 - val_mae: 5957.4497\n",
      "Epoch 33/100\n",
      "\u001b[1m34/34\u001b[0m \u001b[32m━━━━━━━━━━━━━━━━━━━━\u001b[0m\u001b[37m\u001b[0m \u001b[1m0s\u001b[0m 4ms/step - loss: 4898.2017 - mae: 4898.2017 - val_loss: 5701.1045 - val_mae: 5701.1045\n",
      "Epoch 34/100\n",
      "\u001b[1m34/34\u001b[0m \u001b[32m━━━━━━━━━━━━━━━━━━━━\u001b[0m\u001b[37m\u001b[0m \u001b[1m0s\u001b[0m 5ms/step - loss: 4476.6123 - mae: 4476.6123 - val_loss: 5449.7070 - val_mae: 5449.7070\n",
      "Epoch 35/100\n",
      "\u001b[1m34/34\u001b[0m \u001b[32m━━━━━━━━━━━━━━━━━━━━\u001b[0m\u001b[37m\u001b[0m \u001b[1m0s\u001b[0m 5ms/step - loss: 4680.0674 - mae: 4680.0674 - val_loss: 5223.0991 - val_mae: 5223.0991\n",
      "Epoch 36/100\n",
      "\u001b[1m34/34\u001b[0m \u001b[32m━━━━━━━━━━━━━━━━━━━━\u001b[0m\u001b[37m\u001b[0m \u001b[1m0s\u001b[0m 3ms/step - loss: 4598.6353 - mae: 4598.6353 - val_loss: 5002.7192 - val_mae: 5002.7192\n",
      "Epoch 37/100\n",
      "\u001b[1m34/34\u001b[0m \u001b[32m━━━━━━━━━━━━━━━━━━━━\u001b[0m\u001b[37m\u001b[0m \u001b[1m0s\u001b[0m 4ms/step - loss: 4344.3530 - mae: 4344.3530 - val_loss: 4793.2319 - val_mae: 4793.2319\n",
      "Epoch 38/100\n",
      "\u001b[1m34/34\u001b[0m \u001b[32m━━━━━━━━━━━━━━━━━━━━\u001b[0m\u001b[37m\u001b[0m \u001b[1m0s\u001b[0m 5ms/step - loss: 4035.6086 - mae: 4035.6086 - val_loss: 4611.4937 - val_mae: 4611.4937\n",
      "Epoch 39/100\n",
      "\u001b[1m34/34\u001b[0m \u001b[32m━━━━━━━━━━━━━━━━━━━━\u001b[0m\u001b[37m\u001b[0m \u001b[1m0s\u001b[0m 5ms/step - loss: 3682.2605 - mae: 3682.2605 - val_loss: 4463.9277 - val_mae: 4463.9277\n",
      "Epoch 40/100\n",
      "\u001b[1m34/34\u001b[0m \u001b[32m━━━━━━━━━━━━━━━━━━━━\u001b[0m\u001b[37m\u001b[0m \u001b[1m0s\u001b[0m 4ms/step - loss: 3649.6753 - mae: 3649.6753 - val_loss: 4349.9116 - val_mae: 4349.9116\n",
      "Epoch 41/100\n",
      "\u001b[1m34/34\u001b[0m \u001b[32m━━━━━━━━━━━━━━━━━━━━\u001b[0m\u001b[37m\u001b[0m \u001b[1m0s\u001b[0m 4ms/step - loss: 3644.6792 - mae: 3644.6792 - val_loss: 4254.4912 - val_mae: 4254.4912\n",
      "Epoch 42/100\n",
      "\u001b[1m34/34\u001b[0m \u001b[32m━━━━━━━━━━━━━━━━━━━━\u001b[0m\u001b[37m\u001b[0m \u001b[1m0s\u001b[0m 4ms/step - loss: 3873.3579 - mae: 3873.3579 - val_loss: 4187.6055 - val_mae: 4187.6055\n",
      "Epoch 43/100\n",
      "\u001b[1m34/34\u001b[0m \u001b[32m━━━━━━━━━━━━━━━━━━━━\u001b[0m\u001b[37m\u001b[0m \u001b[1m0s\u001b[0m 5ms/step - loss: 3610.8943 - mae: 3610.8943 - val_loss: 4141.8115 - val_mae: 4141.8110\n",
      "Epoch 44/100\n",
      "\u001b[1m34/34\u001b[0m \u001b[32m━━━━━━━━━━━━━━━━━━━━\u001b[0m\u001b[37m\u001b[0m \u001b[1m0s\u001b[0m 5ms/step - loss: 3527.9270 - mae: 3527.9270 - val_loss: 4100.4912 - val_mae: 4100.4912\n",
      "Epoch 45/100\n",
      "\u001b[1m34/34\u001b[0m \u001b[32m━━━━━━━━━━━━━━━━━━━━\u001b[0m\u001b[37m\u001b[0m \u001b[1m0s\u001b[0m 4ms/step - loss: 3556.0085 - mae: 3556.0085 - val_loss: 4069.8567 - val_mae: 4069.8567\n",
      "Epoch 46/100\n",
      "\u001b[1m34/34\u001b[0m \u001b[32m━━━━━━━━━━━━━━━━━━━━\u001b[0m\u001b[37m\u001b[0m \u001b[1m0s\u001b[0m 4ms/step - loss: 3702.1802 - mae: 3702.1802 - val_loss: 4043.1433 - val_mae: 4043.1433\n",
      "Epoch 47/100\n",
      "\u001b[1m34/34\u001b[0m \u001b[32m━━━━━━━━━━━━━━━━━━━━\u001b[0m\u001b[37m\u001b[0m \u001b[1m0s\u001b[0m 4ms/step - loss: 3601.3523 - mae: 3601.3523 - val_loss: 4020.7781 - val_mae: 4020.7781\n",
      "Epoch 48/100\n",
      "\u001b[1m34/34\u001b[0m \u001b[32m━━━━━━━━━━━━━━━━━━━━\u001b[0m\u001b[37m\u001b[0m \u001b[1m0s\u001b[0m 5ms/step - loss: 3698.2468 - mae: 3698.2468 - val_loss: 3996.5178 - val_mae: 3996.5178\n",
      "Epoch 49/100\n",
      "\u001b[1m34/34\u001b[0m \u001b[32m━━━━━━━━━━━━━━━━━━━━\u001b[0m\u001b[37m\u001b[0m \u001b[1m0s\u001b[0m 4ms/step - loss: 3299.0967 - mae: 3299.0967 - val_loss: 3975.0759 - val_mae: 3975.0759\n",
      "Epoch 50/100\n",
      "\u001b[1m34/34\u001b[0m \u001b[32m━━━━━━━━━━━━━━━━━━━━\u001b[0m\u001b[37m\u001b[0m \u001b[1m0s\u001b[0m 5ms/step - loss: 3430.1509 - mae: 3430.1509 - val_loss: 3958.7109 - val_mae: 3958.7109\n",
      "Epoch 51/100\n",
      "\u001b[1m34/34\u001b[0m \u001b[32m━━━━━━━━━━━━━━━━━━━━\u001b[0m\u001b[37m\u001b[0m \u001b[1m0s\u001b[0m 4ms/step - loss: 3315.9797 - mae: 3315.9797 - val_loss: 3945.4656 - val_mae: 3945.4656\n",
      "Epoch 52/100\n",
      "\u001b[1m34/34\u001b[0m \u001b[32m━━━━━━━━━━━━━━━━━━━━\u001b[0m\u001b[37m\u001b[0m \u001b[1m0s\u001b[0m 5ms/step - loss: 3194.2905 - mae: 3194.2905 - val_loss: 3930.9492 - val_mae: 3930.9492\n",
      "Epoch 53/100\n",
      "\u001b[1m34/34\u001b[0m \u001b[32m━━━━━━━━━━━━━━━━━━━━\u001b[0m\u001b[37m\u001b[0m \u001b[1m0s\u001b[0m 5ms/step - loss: 3748.2656 - mae: 3748.2656 - val_loss: 3914.8406 - val_mae: 3914.8406\n",
      "Epoch 54/100\n",
      "\u001b[1m34/34\u001b[0m \u001b[32m━━━━━━━━━━━━━━━━━━━━\u001b[0m\u001b[37m\u001b[0m \u001b[1m0s\u001b[0m 5ms/step - loss: 3380.1187 - mae: 3380.1187 - val_loss: 3905.1843 - val_mae: 3905.1843\n",
      "Epoch 55/100\n",
      "\u001b[1m34/34\u001b[0m \u001b[32m━━━━━━━━━━━━━━━━━━━━\u001b[0m\u001b[37m\u001b[0m \u001b[1m0s\u001b[0m 4ms/step - loss: 3237.5923 - mae: 3237.5923 - val_loss: 3892.0420 - val_mae: 3892.0420\n",
      "Epoch 56/100\n",
      "\u001b[1m34/34\u001b[0m \u001b[32m━━━━━━━━━━━━━━━━━━━━\u001b[0m\u001b[37m\u001b[0m \u001b[1m0s\u001b[0m 4ms/step - loss: 3522.3130 - mae: 3522.3130 - val_loss: 3880.3740 - val_mae: 3880.3740\n",
      "Epoch 57/100\n",
      "\u001b[1m34/34\u001b[0m \u001b[32m━━━━━━━━━━━━━━━━━━━━\u001b[0m\u001b[37m\u001b[0m \u001b[1m0s\u001b[0m 4ms/step - loss: 3381.1003 - mae: 3381.1003 - val_loss: 3868.8650 - val_mae: 3868.8650\n",
      "Epoch 58/100\n",
      "\u001b[1m34/34\u001b[0m \u001b[32m━━━━━━━━━━━━━━━━━━━━\u001b[0m\u001b[37m\u001b[0m \u001b[1m0s\u001b[0m 4ms/step - loss: 3612.0474 - mae: 3612.0474 - val_loss: 3855.0964 - val_mae: 3855.0964\n",
      "Epoch 59/100\n",
      "\u001b[1m34/34\u001b[0m \u001b[32m━━━━━━━━━━━━━━━━━━━━\u001b[0m\u001b[37m\u001b[0m \u001b[1m0s\u001b[0m 3ms/step - loss: 3135.1189 - mae: 3135.1189 - val_loss: 3845.5159 - val_mae: 3845.5159\n",
      "Epoch 60/100\n",
      "\u001b[1m34/34\u001b[0m \u001b[32m━━━━━━━━━━━━━━━━━━━━\u001b[0m\u001b[37m\u001b[0m \u001b[1m0s\u001b[0m 3ms/step - loss: 3107.5632 - mae: 3107.5632 - val_loss: 3834.4653 - val_mae: 3834.4653\n",
      "Epoch 61/100\n",
      "\u001b[1m34/34\u001b[0m \u001b[32m━━━━━━━━━━━━━━━━━━━━\u001b[0m\u001b[37m\u001b[0m \u001b[1m0s\u001b[0m 4ms/step - loss: 3377.4832 - mae: 3377.4832 - val_loss: 3824.4924 - val_mae: 3824.4924\n",
      "Epoch 62/100\n",
      "\u001b[1m34/34\u001b[0m \u001b[32m━━━━━━━━━━━━━━━━━━━━\u001b[0m\u001b[37m\u001b[0m \u001b[1m0s\u001b[0m 4ms/step - loss: 3704.3494 - mae: 3704.3494 - val_loss: 3815.4829 - val_mae: 3815.4829\n",
      "Epoch 63/100\n",
      "\u001b[1m34/34\u001b[0m \u001b[32m━━━━━━━━━━━━━━━━━━━━\u001b[0m\u001b[37m\u001b[0m \u001b[1m0s\u001b[0m 4ms/step - loss: 3450.8052 - mae: 3450.8052 - val_loss: 3805.7847 - val_mae: 3805.7847\n",
      "Epoch 64/100\n",
      "\u001b[1m34/34\u001b[0m \u001b[32m━━━━━━━━━━━━━━━━━━━━\u001b[0m\u001b[37m\u001b[0m \u001b[1m0s\u001b[0m 4ms/step - loss: 3162.4678 - mae: 3162.4678 - val_loss: 3797.4993 - val_mae: 3797.4993\n",
      "Epoch 65/100\n",
      "\u001b[1m34/34\u001b[0m \u001b[32m━━━━━━━━━━━━━━━━━━━━\u001b[0m\u001b[37m\u001b[0m \u001b[1m0s\u001b[0m 4ms/step - loss: 3479.7446 - mae: 3479.7446 - val_loss: 3789.6011 - val_mae: 3789.6011\n",
      "Epoch 66/100\n",
      "\u001b[1m34/34\u001b[0m \u001b[32m━━━━━━━━━━━━━━━━━━━━\u001b[0m\u001b[37m\u001b[0m \u001b[1m0s\u001b[0m 5ms/step - loss: 3290.5610 - mae: 3290.5610 - val_loss: 3779.9280 - val_mae: 3779.9280\n",
      "Epoch 67/100\n",
      "\u001b[1m34/34\u001b[0m \u001b[32m━━━━━━━━━━━━━━━━━━━━\u001b[0m\u001b[37m\u001b[0m \u001b[1m0s\u001b[0m 6ms/step - loss: 3190.4463 - mae: 3190.4463 - val_loss: 3770.0562 - val_mae: 3770.0562\n",
      "Epoch 68/100\n",
      "\u001b[1m34/34\u001b[0m \u001b[32m━━━━━━━━━━━━━━━━━━━━\u001b[0m\u001b[37m\u001b[0m \u001b[1m0s\u001b[0m 5ms/step - loss: 3705.1650 - mae: 3705.1650 - val_loss: 3761.2617 - val_mae: 3761.2617\n",
      "Epoch 69/100\n",
      "\u001b[1m34/34\u001b[0m \u001b[32m━━━━━━━━━━━━━━━━━━━━\u001b[0m\u001b[37m\u001b[0m \u001b[1m0s\u001b[0m 6ms/step - loss: 3223.5991 - mae: 3223.5991 - val_loss: 3752.2161 - val_mae: 3752.2161\n",
      "Epoch 70/100\n",
      "\u001b[1m34/34\u001b[0m \u001b[32m━━━━━━━━━━━━━━━━━━━━\u001b[0m\u001b[37m\u001b[0m \u001b[1m0s\u001b[0m 4ms/step - loss: 3123.1667 - mae: 3123.1667 - val_loss: 3743.9731 - val_mae: 3743.9731\n",
      "Epoch 71/100\n",
      "\u001b[1m34/34\u001b[0m \u001b[32m━━━━━━━━━━━━━━━━━━━━\u001b[0m\u001b[37m\u001b[0m \u001b[1m0s\u001b[0m 4ms/step - loss: 3134.5825 - mae: 3134.5825 - val_loss: 3732.3706 - val_mae: 3732.3706\n",
      "Epoch 72/100\n",
      "\u001b[1m34/34\u001b[0m \u001b[32m━━━━━━━━━━━━━━━━━━━━\u001b[0m\u001b[37m\u001b[0m \u001b[1m0s\u001b[0m 5ms/step - loss: 3493.5610 - mae: 3493.5610 - val_loss: 3723.5381 - val_mae: 3723.5381\n",
      "Epoch 73/100\n",
      "\u001b[1m34/34\u001b[0m \u001b[32m━━━━━━━━━━━━━━━━━━━━\u001b[0m\u001b[37m\u001b[0m \u001b[1m0s\u001b[0m 4ms/step - loss: 3533.5410 - mae: 3533.5410 - val_loss: 3714.1746 - val_mae: 3714.1746\n",
      "Epoch 74/100\n",
      "\u001b[1m34/34\u001b[0m \u001b[32m━━━━━━━━━━━━━━━━━━━━\u001b[0m\u001b[37m\u001b[0m \u001b[1m0s\u001b[0m 4ms/step - loss: 3281.1653 - mae: 3281.1653 - val_loss: 3705.0471 - val_mae: 3705.0471\n",
      "Epoch 75/100\n",
      "\u001b[1m34/34\u001b[0m \u001b[32m━━━━━━━━━━━━━━━━━━━━\u001b[0m\u001b[37m\u001b[0m \u001b[1m0s\u001b[0m 4ms/step - loss: 3074.0823 - mae: 3074.0823 - val_loss: 3693.0664 - val_mae: 3693.0664\n",
      "Epoch 76/100\n",
      "\u001b[1m34/34\u001b[0m \u001b[32m━━━━━━━━━━━━━━━━━━━━\u001b[0m\u001b[37m\u001b[0m \u001b[1m0s\u001b[0m 4ms/step - loss: 3317.8684 - mae: 3317.8684 - val_loss: 3683.5588 - val_mae: 3683.5588\n",
      "Epoch 77/100\n",
      "\u001b[1m34/34\u001b[0m \u001b[32m━━━━━━━━━━━━━━━━━━━━\u001b[0m\u001b[37m\u001b[0m \u001b[1m0s\u001b[0m 4ms/step - loss: 3557.8960 - mae: 3557.8960 - val_loss: 3672.2073 - val_mae: 3672.2073\n",
      "Epoch 78/100\n",
      "\u001b[1m34/34\u001b[0m \u001b[32m━━━━━━━━━━━━━━━━━━━━\u001b[0m\u001b[37m\u001b[0m \u001b[1m0s\u001b[0m 4ms/step - loss: 3181.8450 - mae: 3181.8450 - val_loss: 3665.5801 - val_mae: 3665.5801\n",
      "Epoch 79/100\n",
      "\u001b[1m34/34\u001b[0m \u001b[32m━━━━━━━━━━━━━━━━━━━━\u001b[0m\u001b[37m\u001b[0m \u001b[1m0s\u001b[0m 5ms/step - loss: 3195.6045 - mae: 3195.6045 - val_loss: 3654.7534 - val_mae: 3654.7534\n",
      "Epoch 80/100\n",
      "\u001b[1m34/34\u001b[0m \u001b[32m━━━━━━━━━━━━━━━━━━━━\u001b[0m\u001b[37m\u001b[0m \u001b[1m0s\u001b[0m 4ms/step - loss: 3147.1150 - mae: 3147.1150 - val_loss: 3646.4160 - val_mae: 3646.4160\n",
      "Epoch 81/100\n",
      "\u001b[1m34/34\u001b[0m \u001b[32m━━━━━━━━━━━━━━━━━━━━\u001b[0m\u001b[37m\u001b[0m \u001b[1m0s\u001b[0m 4ms/step - loss: 3188.4167 - mae: 3188.4167 - val_loss: 3635.7070 - val_mae: 3635.7070\n",
      "Epoch 82/100\n",
      "\u001b[1m34/34\u001b[0m \u001b[32m━━━━━━━━━━━━━━━━━━━━\u001b[0m\u001b[37m\u001b[0m \u001b[1m0s\u001b[0m 5ms/step - loss: 3115.8916 - mae: 3115.8916 - val_loss: 3628.0598 - val_mae: 3628.0598\n",
      "Epoch 83/100\n",
      "\u001b[1m34/34\u001b[0m \u001b[32m━━━━━━━━━━━━━━━━━━━━\u001b[0m\u001b[37m\u001b[0m \u001b[1m0s\u001b[0m 3ms/step - loss: 3220.2009 - mae: 3220.2009 - val_loss: 3618.1104 - val_mae: 3618.1104\n",
      "Epoch 84/100\n",
      "\u001b[1m34/34\u001b[0m \u001b[32m━━━━━━━━━━━━━━━━━━━━\u001b[0m\u001b[37m\u001b[0m \u001b[1m0s\u001b[0m 5ms/step - loss: 3093.5940 - mae: 3093.5940 - val_loss: 3605.8484 - val_mae: 3605.8484\n",
      "Epoch 85/100\n",
      "\u001b[1m34/34\u001b[0m \u001b[32m━━━━━━━━━━━━━━━━━━━━\u001b[0m\u001b[37m\u001b[0m \u001b[1m0s\u001b[0m 5ms/step - loss: 2835.4800 - mae: 2835.4800 - val_loss: 3596.3140 - val_mae: 3596.3140\n",
      "Epoch 86/100\n",
      "\u001b[1m34/34\u001b[0m \u001b[32m━━━━━━━━━━━━━━━━━━━━\u001b[0m\u001b[37m\u001b[0m \u001b[1m0s\u001b[0m 4ms/step - loss: 3051.5405 - mae: 3051.5405 - val_loss: 3586.8960 - val_mae: 3586.8960\n",
      "Epoch 87/100\n",
      "\u001b[1m34/34\u001b[0m \u001b[32m━━━━━━━━━━━━━━━━━━━━\u001b[0m\u001b[37m\u001b[0m \u001b[1m0s\u001b[0m 4ms/step - loss: 3146.5166 - mae: 3146.5166 - val_loss: 3572.5610 - val_mae: 3572.5610\n",
      "Epoch 88/100\n",
      "\u001b[1m34/34\u001b[0m \u001b[32m━━━━━━━━━━━━━━━━━━━━\u001b[0m\u001b[37m\u001b[0m \u001b[1m0s\u001b[0m 5ms/step - loss: 2885.0811 - mae: 2885.0811 - val_loss: 3562.9937 - val_mae: 3562.9937\n",
      "Epoch 89/100\n",
      "\u001b[1m34/34\u001b[0m \u001b[32m━━━━━━━━━━━━━━━━━━━━\u001b[0m\u001b[37m\u001b[0m \u001b[1m0s\u001b[0m 4ms/step - loss: 2975.1604 - mae: 2975.1604 - val_loss: 3554.2141 - val_mae: 3554.2141\n",
      "Epoch 90/100\n",
      "\u001b[1m34/34\u001b[0m \u001b[32m━━━━━━━━━━━━━━━━━━━━\u001b[0m\u001b[37m\u001b[0m \u001b[1m0s\u001b[0m 5ms/step - loss: 3105.2227 - mae: 3105.2227 - val_loss: 3540.8452 - val_mae: 3540.8452\n",
      "Epoch 91/100\n",
      "\u001b[1m34/34\u001b[0m \u001b[32m━━━━━━━━━━━━━━━━━━━━\u001b[0m\u001b[37m\u001b[0m \u001b[1m0s\u001b[0m 4ms/step - loss: 3192.4827 - mae: 3192.4827 - val_loss: 3535.3276 - val_mae: 3535.3276\n",
      "Epoch 92/100\n",
      "\u001b[1m34/34\u001b[0m \u001b[32m━━━━━━━━━━━━━━━━━━━━\u001b[0m\u001b[37m\u001b[0m \u001b[1m0s\u001b[0m 4ms/step - loss: 3268.9480 - mae: 3268.9480 - val_loss: 3522.6274 - val_mae: 3522.6274\n",
      "Epoch 93/100\n",
      "\u001b[1m34/34\u001b[0m \u001b[32m━━━━━━━━━━━━━━━━━━━━\u001b[0m\u001b[37m\u001b[0m \u001b[1m0s\u001b[0m 4ms/step - loss: 3084.9224 - mae: 3084.9224 - val_loss: 3514.2856 - val_mae: 3514.2856\n",
      "Epoch 94/100\n",
      "\u001b[1m34/34\u001b[0m \u001b[32m━━━━━━━━━━━━━━━━━━━━\u001b[0m\u001b[37m\u001b[0m \u001b[1m0s\u001b[0m 4ms/step - loss: 2941.5852 - mae: 2941.5852 - val_loss: 3501.3521 - val_mae: 3501.3521\n",
      "Epoch 95/100\n",
      "\u001b[1m34/34\u001b[0m \u001b[32m━━━━━━━━━━━━━━━━━━━━\u001b[0m\u001b[37m\u001b[0m \u001b[1m0s\u001b[0m 4ms/step - loss: 2953.2019 - mae: 2953.2019 - val_loss: 3495.6213 - val_mae: 3495.6213\n",
      "Epoch 96/100\n",
      "\u001b[1m34/34\u001b[0m \u001b[32m━━━━━━━━━━━━━━━━━━━━\u001b[0m\u001b[37m\u001b[0m \u001b[1m0s\u001b[0m 5ms/step - loss: 2876.8638 - mae: 2876.8638 - val_loss: 3485.2637 - val_mae: 3485.2637\n",
      "Epoch 97/100\n",
      "\u001b[1m34/34\u001b[0m \u001b[32m━━━━━━━━━━━━━━━━━━━━\u001b[0m\u001b[37m\u001b[0m \u001b[1m0s\u001b[0m 4ms/step - loss: 3028.9851 - mae: 3028.9851 - val_loss: 3477.3984 - val_mae: 3477.3984\n",
      "Epoch 98/100\n",
      "\u001b[1m34/34\u001b[0m \u001b[32m━━━━━━━━━━━━━━━━━━━━\u001b[0m\u001b[37m\u001b[0m \u001b[1m0s\u001b[0m 4ms/step - loss: 2798.8757 - mae: 2798.8757 - val_loss: 3466.6262 - val_mae: 3466.6262\n",
      "Epoch 99/100\n",
      "\u001b[1m34/34\u001b[0m \u001b[32m━━━━━━━━━━━━━━━━━━━━\u001b[0m\u001b[37m\u001b[0m \u001b[1m0s\u001b[0m 4ms/step - loss: 3035.4246 - mae: 3035.4246 - val_loss: 3461.0061 - val_mae: 3461.0061\n",
      "Epoch 100/100\n",
      "\u001b[1m34/34\u001b[0m \u001b[32m━━━━━━━━━━━━━━━━━━━━\u001b[0m\u001b[37m\u001b[0m \u001b[1m0s\u001b[0m 4ms/step - loss: 2921.1033 - mae: 2921.1033 - val_loss: 3449.7163 - val_mae: 3449.7163\n"
     ]
    }
   ],
   "source": [
    "regressor = model.fit(X_train,y_train,validation_data=(X_test,y_test),epochs=100,callbacks=[early_stopping])"
   ]
  },
  {
   "cell_type": "code",
   "execution_count": 35,
   "id": "13640bf9",
   "metadata": {
    "execution": {
     "iopub.execute_input": "2024-08-06T16:31:44.500437Z",
     "iopub.status.busy": "2024-08-06T16:31:44.500022Z",
     "iopub.status.idle": "2024-08-06T16:31:44.594794Z",
     "shell.execute_reply": "2024-08-06T16:31:44.593461Z"
    },
    "papermill": {
     "duration": 0.148812,
     "end_time": "2024-08-06T16:31:44.597276",
     "exception": false,
     "start_time": "2024-08-06T16:31:44.448464",
     "status": "completed"
    },
    "tags": []
   },
   "outputs": [
    {
     "name": "stdout",
     "output_type": "stream",
     "text": [
      "\u001b[1m9/9\u001b[0m \u001b[32m━━━━━━━━━━━━━━━━━━━━\u001b[0m\u001b[37m\u001b[0m \u001b[1m0s\u001b[0m 3ms/step - loss: 3354.5522 - mae: 3354.5522 \n",
      "Test Loss: 3449.71630859375\n",
      "Test MAE: 3449.71630859375\n"
     ]
    }
   ],
   "source": [
    "test_loss, test_mae = model.evaluate(X_test,y_test)\n",
    "\n",
    "print(f'Test Loss: {test_loss}')\n",
    "print(f'Test MAE: {test_mae}')"
   ]
  },
  {
   "cell_type": "code",
   "execution_count": 36,
   "id": "34341d83",
   "metadata": {
    "execution": {
     "iopub.execute_input": "2024-08-06T16:31:44.700164Z",
     "iopub.status.busy": "2024-08-06T16:31:44.699202Z",
     "iopub.status.idle": "2024-08-06T16:31:44.873349Z",
     "shell.execute_reply": "2024-08-06T16:31:44.872102Z"
    },
    "papermill": {
     "duration": 0.228647,
     "end_time": "2024-08-06T16:31:44.875964",
     "exception": false,
     "start_time": "2024-08-06T16:31:44.647317",
     "status": "completed"
    },
    "tags": []
   },
   "outputs": [
    {
     "name": "stdout",
     "output_type": "stream",
     "text": [
      "\u001b[1m9/9\u001b[0m \u001b[32m━━━━━━━━━━━━━━━━━━━━\u001b[0m\u001b[37m\u001b[0m \u001b[1m0s\u001b[0m 6ms/step \n"
     ]
    },
    {
     "data": {
      "text/plain": [
       "0.768827703283081"
      ]
     },
     "execution_count": 36,
     "metadata": {},
     "output_type": "execute_result"
    }
   ],
   "source": [
    "from sklearn.metrics import r2_score\n",
    "\n",
    "r2_score(y_true=y_test,y_pred=model.predict(X_test))"
   ]
  }
 ],
 "metadata": {
  "kaggle": {
   "accelerator": "none",
   "dataSources": [
    {
     "datasetId": 13720,
     "sourceId": 18513,
     "sourceType": "datasetVersion"
    }
   ],
   "dockerImageVersionId": 30746,
   "isGpuEnabled": false,
   "isInternetEnabled": true,
   "language": "python",
   "sourceType": "notebook"
  },
  "kernelspec": {
   "display_name": "Python 3",
   "language": "python",
   "name": "python3"
  },
  "language_info": {
   "codemirror_mode": {
    "name": "ipython",
    "version": 3
   },
   "file_extension": ".py",
   "mimetype": "text/x-python",
   "name": "python",
   "nbconvert_exporter": "python",
   "pygments_lexer": "ipython3",
   "version": "3.12.4"
  },
  "papermill": {
   "default_parameters": {},
   "duration": 40.819397,
   "end_time": "2024-08-06T16:31:46.652406",
   "environment_variables": {},
   "exception": null,
   "input_path": "__notebook__.ipynb",
   "output_path": "__notebook__.ipynb",
   "parameters": {},
   "start_time": "2024-08-06T16:31:05.833009",
   "version": "2.5.0"
  }
 },
 "nbformat": 4,
 "nbformat_minor": 5
}
